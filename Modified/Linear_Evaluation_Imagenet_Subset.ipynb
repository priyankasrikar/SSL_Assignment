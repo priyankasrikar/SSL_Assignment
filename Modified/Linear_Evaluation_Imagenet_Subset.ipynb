{
 "cells": [
  {
   "cell_type": "markdown",
   "metadata": {
    "colab_type": "text",
    "id": "view-in-github"
   },
   "source": [
    "<a href=\"https://colab.research.google.com/github/sayakpaul/SimCLR-in-TensorFlow-2/blob/master/Linear_Evaluation_Imagenet_Subset.ipynb\" target=\"_parent\"><img src=\"https://colab.research.google.com/assets/colab-badge.svg\" alt=\"Open In Colab\"/></a>"
   ]
  },
  {
   "cell_type": "markdown",
   "metadata": {
    "colab_type": "text",
    "id": "7ck3ljcss8R2"
   },
   "source": [
    "## Initial setup"
   ]
  },
  {
   "cell_type": "code",
   "execution_count": 1,
   "metadata": {
    "colab": {
     "base_uri": "https://localhost:8080/",
     "height": 34
    },
    "colab_type": "code",
    "id": "lIYdn1woOS1n",
    "outputId": "e99adefa-b6fd-4bbc-c6f2-a5ac3b5cbafd"
   },
   "outputs": [
    {
     "name": "stdout",
     "output_type": "stream",
     "text": [
      "2.6.2\n"
     ]
    }
   ],
   "source": [
    "import tensorflow as tf\n",
    "print(tf.__version__)"
   ]
  },
  {
   "cell_type": "code",
   "execution_count": 2,
   "metadata": {},
   "outputs": [
    {
     "name": "stdout",
     "output_type": "stream",
     "text": [
      "Collecting tensorflow\n",
      "  Using cached tensorflow-2.6.2-cp36-cp36m-manylinux2010_x86_64.whl (458.3 MB)\n",
      "Collecting typing-extensions~=3.7.4\n",
      "  Using cached typing_extensions-3.7.4.3-py3-none-any.whl (22 kB)\n",
      "Requirement already satisfied: grpcio<2.0,>=1.37.0 in /home/priyanka-s1/Desktop/Projects/SelfSupervisedLearning/env/lib/python3.6/site-packages (from tensorflow) (1.48.1)\n",
      "Collecting h5py~=3.1.0\n",
      "  Using cached h5py-3.1.0-cp36-cp36m-manylinux1_x86_64.whl (4.0 MB)\n",
      "Requirement already satisfied: protobuf>=3.9.2 in /home/priyanka-s1/Desktop/Projects/SelfSupervisedLearning/env/lib/python3.6/site-packages (from tensorflow) (3.19.4)\n",
      "Collecting absl-py~=0.10\n",
      "  Using cached absl_py-0.15.0-py3-none-any.whl (132 kB)\n",
      "Collecting termcolor~=1.1.0\n",
      "  Using cached termcolor-1.1.0-py3-none-any.whl\n",
      "Requirement already satisfied: wheel~=0.35 in /home/priyanka-s1/Desktop/Projects/SelfSupervisedLearning/env/lib/python3.6/site-packages (from tensorflow) (0.37.1)\n",
      "Collecting astunparse~=1.6.3\n",
      "  Using cached astunparse-1.6.3-py2.py3-none-any.whl (12 kB)\n",
      "Collecting gast==0.4.0\n",
      "  Using cached gast-0.4.0-py3-none-any.whl (9.8 kB)\n",
      "Collecting tensorboard<2.7,>=2.6.0\n",
      "  Using cached tensorboard-2.6.0-py3-none-any.whl (5.6 MB)\n",
      "Collecting clang~=5.0\n",
      "  Using cached clang-5.0-py3-none-any.whl\n",
      "Requirement already satisfied: numpy~=1.19.2 in /home/priyanka-s1/Desktop/Projects/SelfSupervisedLearning/env/lib/python3.6/site-packages (from tensorflow) (1.19.5)\n",
      "Collecting google-pasta~=0.2\n",
      "  Using cached google_pasta-0.2.0-py3-none-any.whl (57 kB)\n",
      "Collecting flatbuffers~=1.12.0\n",
      "  Using cached flatbuffers-1.12-py2.py3-none-any.whl (15 kB)\n",
      "Collecting six~=1.15.0\n",
      "  Using cached six-1.15.0-py2.py3-none-any.whl (10 kB)\n",
      "Collecting tensorflow-estimator<2.7,>=2.6.0\n",
      "  Using cached tensorflow_estimator-2.6.0-py2.py3-none-any.whl (462 kB)\n",
      "Collecting wrapt~=1.12.1\n",
      "  Using cached wrapt-1.12.1-cp36-cp36m-linux_x86_64.whl\n",
      "Collecting opt-einsum~=3.3.0\n",
      "  Using cached opt_einsum-3.3.0-py3-none-any.whl (65 kB)\n",
      "Collecting keras<2.7,>=2.6.0\n",
      "  Using cached keras-2.6.0-py2.py3-none-any.whl (1.3 MB)\n",
      "Collecting keras-preprocessing~=1.1.2\n",
      "  Using cached Keras_Preprocessing-1.1.2-py2.py3-none-any.whl (42 kB)\n",
      "Collecting cached-property\n",
      "  Using cached cached_property-1.5.2-py2.py3-none-any.whl (7.6 kB)\n",
      "Requirement already satisfied: tensorboard-plugin-wit>=1.6.0 in /home/priyanka-s1/Desktop/Projects/SelfSupervisedLearning/env/lib/python3.6/site-packages (from tensorboard<2.7,>=2.6.0->tensorflow) (1.8.1)\n",
      "Requirement already satisfied: setuptools>=41.0.0 in /home/priyanka-s1/Desktop/Projects/SelfSupervisedLearning/env/lib/python3.6/site-packages (from tensorboard<2.7,>=2.6.0->tensorflow) (59.5.0)\n",
      "Requirement already satisfied: tensorboard-data-server<0.7.0,>=0.6.0 in /home/priyanka-s1/Desktop/Projects/SelfSupervisedLearning/env/lib/python3.6/site-packages (from tensorboard<2.7,>=2.6.0->tensorflow) (0.6.1)\n",
      "Requirement already satisfied: google-auth-oauthlib<0.5,>=0.4.1 in /home/priyanka-s1/Desktop/Projects/SelfSupervisedLearning/env/lib/python3.6/site-packages (from tensorboard<2.7,>=2.6.0->tensorflow) (0.4.6)\n",
      "Requirement already satisfied: markdown>=2.6.8 in /home/priyanka-s1/Desktop/Projects/SelfSupervisedLearning/env/lib/python3.6/site-packages (from tensorboard<2.7,>=2.6.0->tensorflow) (3.3.7)\n",
      "Requirement already satisfied: requests<3,>=2.21.0 in /home/priyanka-s1/Desktop/Projects/SelfSupervisedLearning/env/lib/python3.6/site-packages (from tensorboard<2.7,>=2.6.0->tensorflow) (2.27.1)\n",
      "Requirement already satisfied: werkzeug>=0.11.15 in /home/priyanka-s1/Desktop/Projects/SelfSupervisedLearning/env/lib/python3.6/site-packages (from tensorboard<2.7,>=2.6.0->tensorflow) (2.0.3)\n",
      "Collecting google-auth<2,>=1.6.3\n",
      "  Using cached google_auth-1.35.0-py2.py3-none-any.whl (152 kB)\n",
      "Requirement already satisfied: pyasn1-modules>=0.2.1 in /home/priyanka-s1/Desktop/Projects/SelfSupervisedLearning/env/lib/python3.6/site-packages (from google-auth<2,>=1.6.3->tensorboard<2.7,>=2.6.0->tensorflow) (0.2.8)\n",
      "Requirement already satisfied: cachetools<5.0,>=2.0.0 in /home/priyanka-s1/Desktop/Projects/SelfSupervisedLearning/env/lib/python3.6/site-packages (from google-auth<2,>=1.6.3->tensorboard<2.7,>=2.6.0->tensorflow) (4.2.4)\n",
      "Requirement already satisfied: rsa<5,>=3.1.4 in /home/priyanka-s1/Desktop/Projects/SelfSupervisedLearning/env/lib/python3.6/site-packages (from google-auth<2,>=1.6.3->tensorboard<2.7,>=2.6.0->tensorflow) (4.9)\n",
      "Requirement already satisfied: requests-oauthlib>=0.7.0 in /home/priyanka-s1/Desktop/Projects/SelfSupervisedLearning/env/lib/python3.6/site-packages (from google-auth-oauthlib<0.5,>=0.4.1->tensorboard<2.7,>=2.6.0->tensorflow) (1.3.1)\n",
      "Requirement already satisfied: importlib-metadata>=4.4 in /home/priyanka-s1/Desktop/Projects/SelfSupervisedLearning/env/lib/python3.6/site-packages (from markdown>=2.6.8->tensorboard<2.7,>=2.6.0->tensorflow) (4.8.3)\n",
      "Requirement already satisfied: idna<4,>=2.5 in /home/priyanka-s1/Desktop/Projects/SelfSupervisedLearning/env/lib/python3.6/site-packages (from requests<3,>=2.21.0->tensorboard<2.7,>=2.6.0->tensorflow) (3.3)\n",
      "Requirement already satisfied: charset-normalizer~=2.0.0 in /home/priyanka-s1/Desktop/Projects/SelfSupervisedLearning/env/lib/python3.6/site-packages (from requests<3,>=2.21.0->tensorboard<2.7,>=2.6.0->tensorflow) (2.0.12)\n",
      "Requirement already satisfied: certifi>=2017.4.17 in /home/priyanka-s1/Desktop/Projects/SelfSupervisedLearning/env/lib/python3.6/site-packages (from requests<3,>=2.21.0->tensorboard<2.7,>=2.6.0->tensorflow) (2022.6.15)\n",
      "Requirement already satisfied: urllib3<1.27,>=1.21.1 in /home/priyanka-s1/Desktop/Projects/SelfSupervisedLearning/env/lib/python3.6/site-packages (from requests<3,>=2.21.0->tensorboard<2.7,>=2.6.0->tensorflow) (1.26.12)\n",
      "Requirement already satisfied: dataclasses in /home/priyanka-s1/Desktop/Projects/SelfSupervisedLearning/env/lib/python3.6/site-packages (from werkzeug>=0.11.15->tensorboard<2.7,>=2.6.0->tensorflow) (0.8)\n",
      "Requirement already satisfied: zipp>=0.5 in /home/priyanka-s1/Desktop/Projects/SelfSupervisedLearning/env/lib/python3.6/site-packages (from importlib-metadata>=4.4->markdown>=2.6.8->tensorboard<2.7,>=2.6.0->tensorflow) (3.6.0)\n",
      "Requirement already satisfied: pyasn1<0.5.0,>=0.4.6 in /home/priyanka-s1/Desktop/Projects/SelfSupervisedLearning/env/lib/python3.6/site-packages (from pyasn1-modules>=0.2.1->google-auth<2,>=1.6.3->tensorboard<2.7,>=2.6.0->tensorflow) (0.4.8)\n",
      "Requirement already satisfied: oauthlib>=3.0.0 in /home/priyanka-s1/Desktop/Projects/SelfSupervisedLearning/env/lib/python3.6/site-packages (from requests-oauthlib>=0.7.0->google-auth-oauthlib<0.5,>=0.4.1->tensorboard<2.7,>=2.6.0->tensorflow) (3.2.0)\n",
      "Installing collected packages: typing-extensions, six, google-auth, cached-property, absl-py, wrapt, termcolor, tensorflow-estimator, tensorboard, opt-einsum, keras-preprocessing, keras, h5py, google-pasta, gast, flatbuffers, clang, astunparse, tensorflow\n",
      "  Attempting uninstall: typing-extensions\n",
      "    Found existing installation: typing-extensions 4.1.1\n",
      "    Uninstalling typing-extensions-4.1.1:\n",
      "      Successfully uninstalled typing-extensions-4.1.1\n",
      "  Attempting uninstall: six\n",
      "    Found existing installation: six 1.16.0\n",
      "    Uninstalling six-1.16.0:\n",
      "      Successfully uninstalled six-1.16.0\n",
      "  Attempting uninstall: google-auth\n",
      "    Found existing installation: google-auth 2.11.0\n",
      "    Uninstalling google-auth-2.11.0:\n",
      "      Successfully uninstalled google-auth-2.11.0\n",
      "  Attempting uninstall: absl-py\n",
      "    Found existing installation: absl-py 1.2.0\n",
      "    Uninstalling absl-py-1.2.0:\n",
      "      Successfully uninstalled absl-py-1.2.0\n",
      "  Attempting uninstall: tensorboard\n",
      "    Found existing installation: tensorboard 2.10.0\n",
      "    Uninstalling tensorboard-2.10.0:\n",
      "      Successfully uninstalled tensorboard-2.10.0\n",
      "Successfully installed absl-py-0.15.0 astunparse-1.6.3 cached-property-1.5.2 clang-5.0 flatbuffers-1.12 gast-0.4.0 google-auth-1.35.0 google-pasta-0.2.0 h5py-3.1.0 keras-2.6.0 keras-preprocessing-1.1.2 opt-einsum-3.3.0 six-1.15.0 tensorboard-2.6.0 tensorflow-2.6.2 tensorflow-estimator-2.6.0 termcolor-1.1.0 typing-extensions-3.7.4.3 wrapt-1.12.1\n"
     ]
    }
   ],
   "source": [
    "!pip3 install tensorflow"
   ]
  },
  {
   "cell_type": "markdown",
   "metadata": {
    "colab_type": "text",
    "id": "SPPNCexztM-5"
   },
   "source": [
    "### Restoring model weights from `wandb` run page"
   ]
  },
  {
   "cell_type": "code",
   "execution_count": 2,
   "metadata": {
    "colab": {},
    "colab_type": "code",
    "id": "DjvNq66HtSbc"
   },
   "outputs": [],
   "source": [
    "simclr_weights = \"/home/priyanka-s1/Desktop/Projects/SelfSupervisedLearning/SimCLR-in-TensorFlow-2-master/Pretrained_Weights/20200508-134915resnet_simclr.h5\""
   ]
  },
  {
   "cell_type": "code",
   "execution_count": 4,
   "metadata": {},
   "outputs": [
    {
     "name": "stdout",
     "output_type": "stream",
     "text": [
      "Collecting scikit-learn\n",
      "  Using cached scikit_learn-0.24.2-cp36-cp36m-manylinux2010_x86_64.whl (22.2 MB)\n",
      "Collecting joblib>=0.11\n",
      "  Using cached joblib-1.1.0-py2.py3-none-any.whl (306 kB)\n",
      "Requirement already satisfied: scipy>=0.19.1 in /home/priyanka-s1/Desktop/Projects/SelfSupervisedLearning/rotnet_env/lib/python3.6/site-packages (from scikit-learn) (1.5.4)\n",
      "Requirement already satisfied: numpy>=1.13.3 in /home/priyanka-s1/Desktop/Projects/SelfSupervisedLearning/rotnet_env/lib/python3.6/site-packages (from scikit-learn) (1.19.5)\n",
      "Collecting threadpoolctl>=2.0.0\n",
      "  Using cached threadpoolctl-3.1.0-py3-none-any.whl (14 kB)\n",
      "Installing collected packages: threadpoolctl, joblib, scikit-learn\n",
      "Successfully installed joblib-1.1.0 scikit-learn-0.24.2 threadpoolctl-3.1.0\n"
     ]
    }
   ],
   "source": [
    "!pip3 install scikit-learn"
   ]
  },
  {
   "cell_type": "code",
   "execution_count": 3,
   "metadata": {
    "colab": {},
    "colab_type": "code",
    "id": "dCsK6zBRpmdo"
   },
   "outputs": [],
   "source": [
    "# Other imports\n",
    "from sklearn.preprocessing import LabelEncoder\n",
    "from sklearn.manifold import TSNE\n",
    "from tensorflow.keras.layers import *\n",
    "from tensorflow.keras.models import *\n",
    "import matplotlib.pyplot as plt\n",
    "from imutils import paths\n",
    "from tqdm import tqdm\n",
    "import tensorflow as tf\n",
    "import seaborn as sns\n",
    "import numpy as np\n",
    "import cv2\n",
    "\n",
    "# Random seed fixation\n",
    "tf.random.set_seed(666)\n",
    "np.random.seed(666)"
   ]
  },
  {
   "cell_type": "code",
   "execution_count": 14,
   "metadata": {},
   "outputs": [
    {
     "name": "stdout",
     "output_type": "stream",
     "text": [
      "Collecting imutils\n",
      "  Using cached imutils-0.5.4-py3-none-any.whl\n",
      "Installing collected packages: imutils\n",
      "Successfully installed imutils-0.5.4\n"
     ]
    }
   ],
   "source": [
    "!pip3 install imutils"
   ]
  },
  {
   "cell_type": "markdown",
   "metadata": {
    "colab_type": "text",
    "id": "yP3vs53rs8SM"
   },
   "source": [
    "## Dataset gathering and preparation"
   ]
  },
  {
   "cell_type": "code",
   "execution_count": 4,
   "metadata": {
    "colab": {
     "base_uri": "https://localhost:8080/",
     "height": 34
    },
    "colab_type": "code",
    "id": "2PRnOXCdppEg",
    "outputId": "26d0f0bc-3aeb-4dc5-c68b-5ac258c731f4"
   },
   "outputs": [
    {
     "name": "stdout",
     "output_type": "stream",
     "text": [
      "460 230\n"
     ]
    }
   ],
   "source": [
    "# Train and test image paths\n",
    "train_images_10 = list(paths.list_images(\"/home/priyanka-s1/Desktop/Projects/SelfSupervisedLearning/SimCLR-in-TensorFlow-2-master/DATASET/TRAIN/\"))\n",
    "test_images = list(paths.list_images(\"/home/priyanka-s1/Desktop/Projects/SelfSupervisedLearning/SimCLR-in-TensorFlow-2-master/DATASET/test/\"))\n",
    "print(len(train_images_10), len(test_images))"
   ]
  },
  {
   "cell_type": "code",
   "execution_count": 13,
   "metadata": {},
   "outputs": [
    {
     "data": {
      "text/plain": [
       "'88'"
      ]
     },
     "execution_count": 13,
     "metadata": {},
     "output_type": "execute_result"
    }
   ],
   "source": [
    "train_images_10[0].split(\"/\")[-2].split(\"_\")[0]"
   ]
  },
  {
   "cell_type": "code",
   "execution_count": 6,
   "metadata": {
    "colab": {},
    "colab_type": "code",
    "id": "9giRP85TqizW"
   },
   "outputs": [],
   "source": [
    "def prepare_images(image_paths):\n",
    "    images = []\n",
    "    labels = []\n",
    "\n",
    "    for image in tqdm(image_paths):\n",
    "        image_pixels = plt.imread(image)\n",
    "        image_pixels = cv2.resize(image_pixels, (224, 224))\n",
    "        image_pixels = image_pixels/255.\n",
    "\n",
    "        label = image.split(\"/\")[-2].split(\"_\")[0]\n",
    "\n",
    "        images.append(image_pixels)\n",
    "        labels.append(label)\n",
    "\n",
    "    images = np.array(images)\n",
    "    labels = np.array(labels)\n",
    "\n",
    "    #print(images, labels)\n",
    "\n",
    "    return images, labels"
   ]
  },
  {
   "cell_type": "code",
   "execution_count": 7,
   "metadata": {
    "colab": {
     "base_uri": "https://localhost:8080/",
     "height": 85
    },
    "colab_type": "code",
    "id": "YJL8IW6UsHkt",
    "outputId": "40d6680c-b4e5-4ef8-fede-cc63a38b2c99"
   },
   "outputs": [
    {
     "name": "stderr",
     "output_type": "stream",
     "text": [
      "100%|██████████| 460/460 [00:03<00:00, 146.19it/s]\n",
      "100%|██████████| 230/230 [00:01<00:00, 171.62it/s]\n"
     ]
    }
   ],
   "source": [
    "X_train, y_train = prepare_images(train_images_10)\n",
    "X_test, y_test = prepare_images(test_images)"
   ]
  },
  {
   "cell_type": "code",
   "execution_count": 8,
   "metadata": {
    "colab": {},
    "colab_type": "code",
    "id": "YAv47WlJvse5"
   },
   "outputs": [],
   "source": [
    "le = LabelEncoder()\n",
    "y_train_enc = le.fit_transform(y_train)\n",
    "y_test_enc = le.transform(y_test)"
   ]
  },
  {
   "cell_type": "code",
   "execution_count": 30,
   "metadata": {},
   "outputs": [
    {
     "data": {
      "text/plain": [
       "array([19, 19, 19, 19, 19, 19, 19, 19, 19, 19,  3,  3,  3,  3,  3,  3,  3,\n",
       "        3,  3,  3,  4,  4,  4,  4,  4,  4,  4,  4,  4,  4,  8,  8,  8,  8,\n",
       "        8,  8,  8,  8,  8,  8,  0,  0,  0,  0,  0,  0,  0,  0,  0,  0, 12,\n",
       "       12, 12, 12, 12, 12, 12, 12, 12, 12, 21, 21, 21, 21, 21, 21, 21, 21,\n",
       "       21, 21, 22, 22, 22, 22, 22, 22, 22, 22, 22, 22, 17, 17, 17, 17, 17,\n",
       "       17, 17, 17, 17, 17, 15, 15, 15, 15, 15, 15, 15, 15, 15, 15, 14, 14,\n",
       "       14, 14, 14, 14, 14, 14, 14, 14,  1,  1,  1,  1,  1,  1,  1,  1,  1,\n",
       "        1, 10, 10, 10, 10, 10, 10, 10, 10, 10, 10, 20, 20, 20, 20, 20, 20,\n",
       "       20, 20, 20, 20,  7,  7,  7,  7,  7,  7,  7,  7,  7,  7,  6,  6,  6,\n",
       "        6,  6,  6,  6,  6,  6,  6,  9,  9,  9,  9,  9,  9,  9,  9,  9,  9,\n",
       "        2,  2,  2,  2,  2,  2,  2,  2,  2,  2, 16, 16, 16, 16, 16, 16, 16,\n",
       "       16, 16, 16, 18, 18, 18, 18, 18, 18, 18, 18, 18, 18,  5,  5,  5,  5,\n",
       "        5,  5,  5,  5,  5,  5, 11, 11, 11, 11, 11, 11, 11, 11, 11, 11, 13,\n",
       "       13, 13, 13, 13, 13, 13, 13, 13, 13])"
      ]
     },
     "execution_count": 30,
     "metadata": {},
     "output_type": "execute_result"
    }
   ],
   "source": [
    "y_test_enc"
   ]
  },
  {
   "cell_type": "code",
   "execution_count": 33,
   "metadata": {},
   "outputs": [
    {
     "data": {
      "text/plain": [
       "'88'"
      ]
     },
     "execution_count": 33,
     "metadata": {},
     "output_type": "execute_result"
    }
   ],
   "source": [
    "y_test[1]"
   ]
  },
  {
   "cell_type": "markdown",
   "metadata": {
    "colab_type": "text",
    "id": "vdM74W7Ws8Sl"
   },
   "source": [
    "## Utilities"
   ]
  },
  {
   "cell_type": "code",
   "execution_count": 9,
   "metadata": {
    "colab": {},
    "colab_type": "code",
    "id": "G8ha8pK7sSUO"
   },
   "outputs": [],
   "source": [
    "# Architecture utils\n",
    "def get_resnet_simclr(hidden_1, hidden_2, hidden_3):\n",
    "    base_model = tf.keras.applications.ResNet50(include_top=False, weights=None, input_shape=(224, 224, 3))\n",
    "    base_model.trainable = True\n",
    "    inputs = Input((224, 224, 3))\n",
    "    h = base_model(inputs, training=False)\n",
    "    h = GlobalAveragePooling2D()(h)\n",
    "\n",
    "    projection_1 = Dense(hidden_1)(h)\n",
    "    projection_1 = Activation(\"relu\")(projection_1)\n",
    "    projection_2 = Dense(hidden_2)(projection_1)\n",
    "    projection_2 = Activation(\"relu\")(projection_2)\n",
    "    projection_3 = Dense(hidden_3)(projection_2)\n",
    "\n",
    "    resnet_simclr = Model(inputs, projection_3)\n",
    "\n",
    "    return resnet_simclr"
   ]
  },
  {
   "cell_type": "code",
   "execution_count": 10,
   "metadata": {
    "colab": {
     "base_uri": "https://localhost:8080/",
     "height": 425
    },
    "colab_type": "code",
    "id": "X0GklYB-sZYz",
    "outputId": "69ad5215-d3e5-43ca-8937-5d14217675ee"
   },
   "outputs": [
    {
     "name": "stdout",
     "output_type": "stream",
     "text": [
      "Model: \"model\"\n",
      "_________________________________________________________________\n",
      "Layer (type)                 Output Shape              Param #   \n",
      "=================================================================\n",
      "input_2 (InputLayer)         [(None, 224, 224, 3)]     0         \n",
      "_________________________________________________________________\n",
      "resnet50 (Functional)        (None, 7, 7, 2048)        23587712  \n",
      "_________________________________________________________________\n",
      "global_average_pooling2d (Gl (None, 2048)              0         \n",
      "_________________________________________________________________\n",
      "dense (Dense)                (None, 256)               524544    \n",
      "_________________________________________________________________\n",
      "activation (Activation)      (None, 256)               0         \n",
      "_________________________________________________________________\n",
      "dense_1 (Dense)              (None, 128)               32896     \n",
      "_________________________________________________________________\n",
      "activation_1 (Activation)    (None, 128)               0         \n",
      "_________________________________________________________________\n",
      "dense_2 (Dense)              (None, 50)                6450      \n",
      "=================================================================\n",
      "Total params: 24,151,602\n",
      "Trainable params: 24,098,482\n",
      "Non-trainable params: 53,120\n",
      "_________________________________________________________________\n"
     ]
    }
   ],
   "source": [
    "resnet_simclr = get_resnet_simclr(256, 128, 50)\n",
    "resnet_simclr.load_weights(simclr_weights)\n",
    "resnet_simclr.summary()"
   ]
  },
  {
   "cell_type": "code",
   "execution_count": 11,
   "metadata": {
    "colab": {},
    "colab_type": "code",
    "id": "Z1tFKw-7ziaG"
   },
   "outputs": [],
   "source": [
    "def plot_training(H):\n",
    "\twith plt.xkcd():\n",
    "\t\tplt.plot(H.history[\"loss\"], label=\"train_loss\")\n",
    "\t\tplt.plot(H.history[\"val_loss\"], label=\"val_loss\")\n",
    "\t\tplt.plot(H.history[\"accuracy\"], label=\"train_acc\")\n",
    "\t\tplt.plot(H.history[\"val_accuracy\"], label=\"val_acc\")\n",
    "\t\tplt.title(\"Training Loss and Accuracy\")\n",
    "\t\tplt.xlabel(\"Epoch #\")\n",
    "\t\tplt.ylabel(\"Loss/Accuracy\")\n",
    "\t\tplt.legend(loc=\"lower left\")\n",
    "\t\tplt.show()"
   ]
  },
  {
   "cell_type": "code",
   "execution_count": 12,
   "metadata": {
    "colab": {},
    "colab_type": "code",
    "id": "7XojYORatX4p"
   },
   "outputs": [],
   "source": [
    "def get_linear_model(features):\n",
    "    linear_model = Sequential([Dense(23, input_shape=(features, ), activation=\"softmax\")])\n",
    "    return linear_model"
   ]
  },
  {
   "cell_type": "markdown",
   "metadata": {
    "colab_type": "text",
    "id": "_s0nfTYos8Sy"
   },
   "source": [
    "## Evaluation"
   ]
  },
  {
   "cell_type": "code",
   "execution_count": 13,
   "metadata": {
    "colab": {},
    "colab_type": "code",
    "id": "RGk081OMMl2a"
   },
   "outputs": [
    {
     "name": "stdout",
     "output_type": "stream",
     "text": [
      "Model: \"model\"\n",
      "_________________________________________________________________\n",
      "Layer (type)                 Output Shape              Param #   \n",
      "=================================================================\n",
      "input_2 (InputLayer)         [(None, 224, 224, 3)]     0         \n",
      "_________________________________________________________________\n",
      "resnet50 (Functional)        (None, 7, 7, 2048)        23587712  \n",
      "_________________________________________________________________\n",
      "global_average_pooling2d (Gl (None, 2048)              0         \n",
      "_________________________________________________________________\n",
      "dense (Dense)                (None, 256)               524544    \n",
      "_________________________________________________________________\n",
      "activation (Activation)      (None, 256)               0         \n",
      "_________________________________________________________________\n",
      "dense_1 (Dense)              (None, 128)               32896     \n",
      "_________________________________________________________________\n",
      "activation_1 (Activation)    (None, 128)               0         \n",
      "_________________________________________________________________\n",
      "dense_2 (Dense)              (None, 50)                6450      \n",
      "=================================================================\n",
      "Total params: 24,151,602\n",
      "Trainable params: 563,890\n",
      "Non-trainable params: 23,587,712\n",
      "_________________________________________________________________\n"
     ]
    }
   ],
   "source": [
    "resnet_simclr.layers[1].trainable = False\n",
    "resnet_simclr.summary()"
   ]
  },
  {
   "cell_type": "code",
   "execution_count": 14,
   "metadata": {
    "colab": {
     "base_uri": "https://localhost:8080/",
     "height": 34
    },
    "colab_type": "code",
    "id": "qnNJ5BKPsj4u",
    "outputId": "4dc98108-f99c-41a5-8c2c-ddc20d9bff1b"
   },
   "outputs": [
    {
     "name": "stdout",
     "output_type": "stream",
     "text": [
      "(460, 128) (230, 128)\n"
     ]
    }
   ],
   "source": [
    "# Encoder model with non-linear projections\n",
    "projection = Model(resnet_simclr.input, resnet_simclr.layers[-2].output)\n",
    "\n",
    "# Extract train and test features\n",
    "train_features = projection.predict(X_train)\n",
    "test_features = projection.predict(X_test)\n",
    "\n",
    "print(train_features.shape, test_features.shape)"
   ]
  },
  {
   "cell_type": "code",
   "execution_count": 15,
   "metadata": {
    "colab": {},
    "colab_type": "code",
    "id": "1B9C0a6003-O"
   },
   "outputs": [],
   "source": [
    "# Early Stopping to prevent overfitting\n",
    "es = tf.keras.callbacks.EarlyStopping(monitor=\"val_loss\", patience=2, verbose=2, restore_best_weights=True)"
   ]
  },
  {
   "cell_type": "code",
   "execution_count": 16,
   "metadata": {
    "colab": {
     "base_uri": "https://localhost:8080/",
     "height": 1000
    },
    "colab_type": "code",
    "id": "-Rb-lf8KvMtR",
    "outputId": "0dbbf73e-0d07-4ddb-c69e-885ab3019bff"
   },
   "outputs": [
    {
     "name": "stdout",
     "output_type": "stream",
     "text": [
      "Epoch 1/50\n",
      "29/29 [==============================] - 1s 7ms/step - loss: 5.6818 - accuracy: 0.0217 - val_loss: 4.5129 - val_accuracy: 0.0565\n",
      "Epoch 2/50\n",
      "29/29 [==============================] - 0s 2ms/step - loss: 4.1130 - accuracy: 0.0478 - val_loss: 3.8168 - val_accuracy: 0.0609\n",
      "Epoch 3/50\n",
      "29/29 [==============================] - 0s 2ms/step - loss: 3.5351 - accuracy: 0.0652 - val_loss: 3.4864 - val_accuracy: 0.0652\n",
      "Epoch 4/50\n",
      "29/29 [==============================] - 0s 2ms/step - loss: 3.2040 - accuracy: 0.0913 - val_loss: 3.3071 - val_accuracy: 0.0652\n",
      "Epoch 5/50\n",
      "29/29 [==============================] - 0s 2ms/step - loss: 2.9838 - accuracy: 0.1196 - val_loss: 3.1824 - val_accuracy: 0.0870\n",
      "Epoch 6/50\n",
      "29/29 [==============================] - 0s 2ms/step - loss: 2.8330 - accuracy: 0.1370 - val_loss: 3.1164 - val_accuracy: 0.0826\n",
      "Epoch 7/50\n",
      "29/29 [==============================] - 0s 2ms/step - loss: 2.7311 - accuracy: 0.1739 - val_loss: 3.0717 - val_accuracy: 0.1043\n",
      "Epoch 8/50\n",
      "29/29 [==============================] - 0s 2ms/step - loss: 2.6509 - accuracy: 0.1783 - val_loss: 3.0343 - val_accuracy: 0.1174\n",
      "Epoch 9/50\n",
      "29/29 [==============================] - 0s 2ms/step - loss: 2.5793 - accuracy: 0.1739 - val_loss: 3.0183 - val_accuracy: 0.1261\n",
      "Epoch 10/50\n",
      "29/29 [==============================] - 0s 2ms/step - loss: 2.5270 - accuracy: 0.1978 - val_loss: 3.0102 - val_accuracy: 0.1130\n",
      "Epoch 11/50\n",
      "29/29 [==============================] - 0s 2ms/step - loss: 2.4900 - accuracy: 0.2326 - val_loss: 3.0002 - val_accuracy: 0.1348\n",
      "Epoch 12/50\n",
      "29/29 [==============================] - 0s 2ms/step - loss: 2.4539 - accuracy: 0.2261 - val_loss: 2.9878 - val_accuracy: 0.1391\n",
      "Epoch 13/50\n",
      "29/29 [==============================] - 0s 2ms/step - loss: 2.4099 - accuracy: 0.2478 - val_loss: 2.9875 - val_accuracy: 0.1391\n",
      "Epoch 14/50\n",
      "29/29 [==============================] - 0s 2ms/step - loss: 2.3798 - accuracy: 0.2717 - val_loss: 2.9929 - val_accuracy: 0.1304\n",
      "Epoch 15/50\n",
      "29/29 [==============================] - 0s 2ms/step - loss: 2.3481 - accuracy: 0.2630 - val_loss: 2.9952 - val_accuracy: 0.1435\n",
      "Restoring model weights from the end of the best epoch.\n",
      "Epoch 00015: early stopping\n"
     ]
    },
    {
     "name": "stderr",
     "output_type": "stream",
     "text": [
      "findfont: Font family ['xkcd', 'xkcd Script', 'Humor Sans', 'Comic Neue', 'Comic Sans MS'] not found. Falling back to DejaVu Sans.\n",
      "findfont: Font family ['xkcd', 'xkcd Script', 'Humor Sans', 'Comic Neue', 'Comic Sans MS'] not found. Falling back to DejaVu Sans.\n"
     ]
    },
    {
     "data": {
      "image/png": "[encoded data removed]",
      "text/plain": [
       "<Figure size 432x288 with 1 Axes>"
      ]
     },
     "metadata": {},
     "output_type": "display_data"
    }
   ],
   "source": [
    "# Linear model\n",
    "\n",
    "linear_model = get_linear_model(128)\n",
    "linear_model.compile(loss=\"sparse_categorical_crossentropy\", metrics=[\"accuracy\"],\n",
    "                     optimizer=\"adam\")\n",
    "history = linear_model.fit(train_features, y_train_enc,\n",
    "                 validation_data=(test_features, y_test_enc),\n",
    "                 batch_size=16,\n",
    "                 epochs=50,\n",
    "                 callbacks=[es])\n",
    "plot_training(history)"
   ]
  },
  {
   "cell_type": "code",
   "execution_count": 26,
   "metadata": {
    "colab": {
     "base_uri": "https://localhost:8080/",
     "height": 34
    },
    "colab_type": "code",
    "id": "pNQxjmTsvd_u",
    "outputId": "4d8434f4-52bc-4fdf-c062-ef03f57df075"
   },
   "outputs": [
    {
     "name": "stdout",
     "output_type": "stream",
     "text": [
      "(460, 256) (230, 256)\n"
     ]
    }
   ],
   "source": [
    "# Encoder model with less non-linearity\n",
    "projection = Model(resnet_simclr.input, resnet_simclr.layers[-4].output)\n",
    "\n",
    "# Extract train and test features\n",
    "train_features = projection.predict(X_train)\n",
    "test_features = projection.predict(X_test)\n",
    "\n",
    "print(train_features.shape, test_features.shape)"
   ]
  },
  {
   "cell_type": "code",
   "execution_count": 27,
   "metadata": {
    "colab": {
     "base_uri": "https://localhost:8080/",
     "height": 1000
    },
    "colab_type": "code",
    "id": "N4YLxLpw1rWK",
    "outputId": "a0a2de2f-0c35-47a8-8c52-707f417a3216"
   },
   "outputs": [
    {
     "name": "stdout",
     "output_type": "stream",
     "text": [
      "Epoch 1/50\n",
      "29/29 [==============================] - 1s 8ms/step - loss: 4.9094 - accuracy: 0.0565 - val_loss: 4.0169 - val_accuracy: 0.0565\n",
      "Epoch 2/50\n",
      "29/29 [==============================] - 0s 3ms/step - loss: 3.6047 - accuracy: 0.0913 - val_loss: 3.4879 - val_accuracy: 0.0783\n",
      "Epoch 3/50\n",
      "29/29 [==============================] - 0s 3ms/step - loss: 3.2146 - accuracy: 0.1130 - val_loss: 3.2860 - val_accuracy: 0.1087\n",
      "Epoch 4/50\n",
      "29/29 [==============================] - 0s 3ms/step - loss: 3.0217 - accuracy: 0.1304 - val_loss: 3.1784 - val_accuracy: 0.1000\n",
      "Epoch 5/50\n",
      "29/29 [==============================] - 0s 3ms/step - loss: 2.9254 - accuracy: 0.1217 - val_loss: 3.0807 - val_accuracy: 0.1174\n",
      "Epoch 6/50\n",
      "29/29 [==============================] - 0s 3ms/step - loss: 2.8594 - accuracy: 0.1370 - val_loss: 3.0466 - val_accuracy: 0.1000\n",
      "Epoch 7/50\n",
      "29/29 [==============================] - 0s 3ms/step - loss: 2.8166 - accuracy: 0.1457 - val_loss: 3.0839 - val_accuracy: 0.1000\n",
      "Epoch 8/50\n",
      "29/29 [==============================] - 0s 3ms/step - loss: 2.8314 - accuracy: 0.1326 - val_loss: 3.0182 - val_accuracy: 0.0913\n",
      "Epoch 9/50\n",
      "29/29 [==============================] - 0s 3ms/step - loss: 2.8083 - accuracy: 0.1565 - val_loss: 3.0135 - val_accuracy: 0.1087\n",
      "Epoch 10/50\n",
      "29/29 [==============================] - 0s 3ms/step - loss: 2.7925 - accuracy: 0.1391 - val_loss: 3.0337 - val_accuracy: 0.1217\n",
      "Epoch 11/50\n",
      "29/29 [==============================] - 0s 3ms/step - loss: 2.8110 - accuracy: 0.1348 - val_loss: 3.0310 - val_accuracy: 0.1174\n",
      "Restoring model weights from the end of the best epoch.\n",
      "Epoch 00011: early stopping\n"
     ]
    },
    {
     "data": {
      "image/png": "[encoded data removed]",
      "text/plain": [
       "<Figure size 432x288 with 1 Axes>"
      ]
     },
     "metadata": {},
     "output_type": "display_data"
    }
   ],
   "source": [
    "#wandb.init(project=\"simclr\", id=\"linear-eval-relu-second-last\")\n",
    "\n",
    "linear_model = get_linear_model(256)\n",
    "linear_model.compile(loss=\"sparse_categorical_crossentropy\", metrics=[\"accuracy\"],\n",
    "                     optimizer=\"adam\")\n",
    "history = linear_model.fit(train_features, y_train_enc,\n",
    "                 validation_data=(test_features, y_test_enc),\n",
    "                 batch_size=16,\n",
    "                 epochs=50,\n",
    "                 callbacks=[es])\n",
    "plot_training(history)"
   ]
  },
  {
   "cell_type": "code",
   "execution_count": 28,
   "metadata": {
    "colab": {
     "base_uri": "https://localhost:8080/",
     "height": 34
    },
    "colab_type": "code",
    "id": "AIjHhSofSUWl",
    "outputId": "e261856d-410f-4dc6-a9dc-cdb7816ed2b0"
   },
   "outputs": [
    {
     "name": "stdout",
     "output_type": "stream",
     "text": [
      "(460, 2048) (230, 2048)\n"
     ]
    }
   ],
   "source": [
    "# Encoder model with no projection\n",
    "projection = Model(resnet_simclr.input, resnet_simclr.layers[-6].output)\n",
    "\n",
    "# Extract train and test features\n",
    "train_features = projection.predict(X_train)\n",
    "test_features = projection.predict(X_test)\n",
    "\n",
    "print(train_features.shape, test_features.shape)"
   ]
  },
  {
   "cell_type": "code",
   "execution_count": 29,
   "metadata": {
    "colab": {
     "base_uri": "https://localhost:8080/",
     "height": 830
    },
    "colab_type": "code",
    "id": "iDFeqRqVSqzs",
    "outputId": "8a9f646d-93bc-42ac-88e7-850fb52c8fa9"
   },
   "outputs": [
    {
     "name": "stdout",
     "output_type": "stream",
     "text": [
      "Epoch 1/50\n",
      "8/8 [==============================] - 1s 27ms/step - loss: 3.9615 - accuracy: 0.0370 - val_loss: 3.6868 - val_accuracy: 0.0826\n",
      "Epoch 2/50\n",
      "8/8 [==============================] - 0s 7ms/step - loss: 3.4706 - accuracy: 0.1109 - val_loss: 3.2647 - val_accuracy: 0.0870\n",
      "Epoch 3/50\n",
      "8/8 [==============================] - 0s 7ms/step - loss: 3.1254 - accuracy: 0.1370 - val_loss: 3.2489 - val_accuracy: 0.1087\n",
      "Epoch 4/50\n",
      "8/8 [==============================] - 0s 7ms/step - loss: 2.9844 - accuracy: 0.1391 - val_loss: 3.2393 - val_accuracy: 0.1261\n",
      "Epoch 5/50\n",
      "8/8 [==============================] - 0s 7ms/step - loss: 3.0009 - accuracy: 0.1391 - val_loss: 3.0520 - val_accuracy: 0.1348\n",
      "Epoch 6/50\n",
      "8/8 [==============================] - 0s 7ms/step - loss: 2.9116 - accuracy: 0.1696 - val_loss: 3.0603 - val_accuracy: 0.0957\n",
      "Epoch 7/50\n",
      "8/8 [==============================] - 0s 7ms/step - loss: 2.8457 - accuracy: 0.1696 - val_loss: 3.0799 - val_accuracy: 0.1174\n",
      "Restoring model weights from the end of the best epoch.\n",
      "Epoch 00007: early stopping\n"
     ]
    },
    {
     "data": {
      "image/png": "[encoded data removed]",
      "text/plain": [
       "<Figure size 432x288 with 1 Axes>"
      ]
     },
     "metadata": {},
     "output_type": "display_data"
    }
   ],
   "source": [
    "#wandb.init(project=\"simclr\", id=\"linear-eval-no-projections\")\n",
    "\n",
    "linear_model = get_linear_model(2048)\n",
    "linear_model.compile(loss=\"sparse_categorical_crossentropy\", metrics=[\"accuracy\"],\n",
    "                     optimizer=\"adam\")\n",
    "history = linear_model.fit(train_features, y_train_enc,\n",
    "                 validation_data=(test_features, y_test_enc),\n",
    "                 batch_size=64,\n",
    "                 epochs=50,\n",
    "                 callbacks=[es])\n",
    "plot_training(history)"
   ]
  },
  {
   "cell_type": "code",
   "execution_count": 20,
   "metadata": {},
   "outputs": [
    {
     "name": "stdout",
     "output_type": "stream",
     "text": [
      "Test loss: 2.98748517036438\n",
      "Test accuracy: 0.13913042843341827\n"
     ]
    }
   ],
   "source": [
    "score=linear_model.evaluate(test_features, y_test_enc, verbose=0)\n",
    "\n",
    "print('Test loss:', score[0]) \n",
    "print('Test accuracy:', score[1])"
   ]
  },
  {
   "cell_type": "code",
   "execution_count": 38,
   "metadata": {},
   "outputs": [
    {
     "name": "stdout",
     "output_type": "stream",
     "text": [
      "[20  8  0  2 20 19 18  4 11  0  3 13 20 19 21 21 16  3 20 21  4  7  6  5\n",
      " 21  7  3 18  5 18  7 11  1 13 15  0  0  8  0  9  0  0 16  7 21  7 13 21\n",
      " 19  0 11 14 19 19 14 19 13 11 19 17  3 21 19 13 20  3 13  0 19 13 19  9\n",
      " 20  7  7  2  9  2 10 20  0  9  3 21 13 13  4  9  0  0  0 18  8  5  7  2\n",
      "  3 17  0  1 16 14  8  6  5 14  4 17  7 14 20 18 19  9  1 17 18 19  5  9\n",
      " 22 10 17 22  0 10 11  9  8 22 20 22  1 20 20  2 20  9 20  0  5  5 13 16\n",
      " 18 17  7  1  5  9  7  7  7 18  8  5 10  7  6  3  8  8 14 20 19  7  6  8\n",
      " 14 15 19  5 21  1 20 17 12  1 12 13 22  7 20 19 19 21  5 17  8  7  8  9\n",
      " 19  9 22 11 20  5  3 11 20  8 15  5  8  7 18  5  1  7 11 11  1  7  9 11\n",
      "  3  5  9 11  3 13  0 21  6 13  0 21 13 13]\n",
      "[19 19 19 19 19 19 19 19 19 19  3  3  3  3  3  3  3  3  3  3  4  4  4  4\n",
      "  4  4  4  4  4  4  8  8  8  8  8  8  8  8  8  8  0  0  0  0  0  0  0  0\n",
      "  0  0 12 12 12 12 12 12 12 12 12 12 21 21 21 21 21 21 21 21 21 21 22 22\n",
      " 22 22 22 22 22 22 22 22 17 17 17 17 17 17 17 17 17 17 15 15 15 15 15 15\n",
      " 15 15 15 15 14 14 14 14 14 14 14 14 14 14  1  1  1  1  1  1  1  1  1  1\n",
      " 10 10 10 10 10 10 10 10 10 10 20 20 20 20 20 20 20 20 20 20  7  7  7  7\n",
      "  7  7  7  7  7  7  6  6  6  6  6  6  6  6  6  6  9  9  9  9  9  9  9  9\n",
      "  9  9  2  2  2  2  2  2  2  2  2  2 16 16 16 16 16 16 16 16 16 16 18 18\n",
      " 18 18 18 18 18 18 18 18  5  5  5  5  5  5  5  5  5  5 11 11 11 11 11 11\n",
      " 11 11 11 11 13 13 13 13 13 13 13 13 13 13]\n"
     ]
    }
   ],
   "source": [
    "pred = linear_model.predict(test_features) \n",
    "pred = np.argmax(pred, axis = 1)\n",
    "label = y_test_enc #np.argmax(y_test_enc)\n",
    "\n",
    "print(pred) \n",
    "print(label)"
   ]
  },
  {
   "cell_type": "code",
   "execution_count": 27,
   "metadata": {},
   "outputs": [
    {
     "name": "stdout",
     "output_type": "stream",
     "text": [
      "70\n"
     ]
    }
   ],
   "source": [
    "print(label)"
   ]
  },
  {
   "cell_type": "code",
   "execution_count": 40,
   "metadata": {},
   "outputs": [
    {
     "data": {
      "text/plain": [
       "array([[0, 0, 0, ..., 0, 0, 0],\n",
       "       [0, 0, 0, ..., 0, 0, 0],\n",
       "       [0, 0, 0, ..., 0, 0, 0],\n",
       "       ...,\n",
       "       [0, 0, 0, ..., 0, 0, 0],\n",
       "       [0, 0, 0, ..., 0, 0, 0],\n",
       "       [0, 0, 0, ..., 0, 0, 4]])"
      ]
     },
     "execution_count": 40,
     "metadata": {},
     "output_type": "execute_result"
    }
   ],
   "source": [
    "from sklearn.metrics import confusion_matrix\n",
    "\n",
    "confusion_matrix(label, pred, labels=label)"
   ]
  },
  {
   "cell_type": "code",
   "execution_count": null,
   "metadata": {},
   "outputs": [],
   "source": []
  },
  {
   "cell_type": "code",
   "execution_count": null,
   "metadata": {},
   "outputs": [],
   "source": []
  },
  {
   "cell_type": "code",
   "execution_count": null,
   "metadata": {},
   "outputs": [],
   "source": []
  },
  {
   "cell_type": "code",
   "execution_count": null,
   "metadata": {},
   "outputs": [],
   "source": []
  }
 ],
 "metadata": {
  "accelerator": "GPU",
  "colab": {
   "include_colab_link": true,
   "name": "scratchpad",
   "provenance": []
  },
  "kernelspec": {
   "display_name": "Python 3",
   "language": "python",
   "name": "python3"
  },
  "language_info": {
   "codemirror_mode": {
    "name": "ipython",
    "version": 3
   },
   "file_extension": ".py",
   "mimetype": "text/x-python",
   "name": "python",
   "nbconvert_exporter": "python",
   "pygments_lexer": "ipython3",
   "version": "3.6.9"
  }
 },
 "nbformat": 4,
 "nbformat_minor": 1
}
