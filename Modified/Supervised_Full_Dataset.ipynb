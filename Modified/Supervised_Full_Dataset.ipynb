{
 "cells": [
  {
   "cell_type": "markdown",
   "metadata": {
    "colab_type": "text",
    "id": "view-in-github"
   },
   "source": [
    "<a href=\"https://colab.research.google.com/github/sayakpaul/SimCLR-in-TensorFlow-2/blob/master/Supervised_Full_Dataset.ipynb\" target=\"_parent\"><img src=\"https://colab.research.google.com/assets/colab-badge.svg\" alt=\"Open In Colab\"/></a>"
   ]
  },
  {
   "cell_type": "markdown",
   "metadata": {
    "colab_type": "text",
    "id": "OJy-Q5dmd85v"
   },
   "source": [
    "## Initial setup"
   ]
  },
  {
   "cell_type": "code",
   "execution_count": 1,
   "metadata": {
    "colab": {
     "base_uri": "https://localhost:8080/",
     "height": 34
    },
    "colab_type": "code",
    "id": "lIYdn1woOS1n",
    "outputId": "d0a70376-ffe1-49a5-8792-e05d92b6accd"
   },
   "outputs": [
    {
     "name": "stdout",
     "output_type": "stream",
     "text": [
      "2.6.2\n"
     ]
    }
   ],
   "source": [
    "import tensorflow as tf\n",
    "print(tf.__version__)"
   ]
  },
  {
   "cell_type": "code",
   "execution_count": 2,
   "metadata": {
    "colab": {},
    "colab_type": "code",
    "id": "dtBEZR3b4Zo7"
   },
   "outputs": [],
   "source": [
    "# Other imports\n",
    "from sklearn.preprocessing import LabelEncoder\n",
    "from tensorflow.keras.layers import *\n",
    "from tensorflow.keras.models import *\n",
    "#from wandb.keras import WandbCallback\n",
    "import matplotlib.pyplot as plt\n",
    "from imutils import paths\n",
    "from tqdm import tqdm\n",
    "import tensorflow as tf\n",
    "import numpy as np\n",
    "import cv2\n",
    "\n",
    "# Random seed fixation\n",
    "tf.random.set_seed(666)\n",
    "np.random.seed(666)"
   ]
  },
  {
   "cell_type": "code",
   "execution_count": 3,
   "metadata": {
    "colab": {
     "base_uri": "https://localhost:8080/",
     "height": 34
    },
    "colab_type": "code",
    "id": "XPs164bL4loQ",
    "outputId": "3997fddd-c44a-441a-e7d7-a751b707618d"
   },
   "outputs": [
    {
     "name": "stdout",
     "output_type": "stream",
     "text": [
      "2070 230\n"
     ]
    }
   ],
   "source": [
    "# Train and test image paths\n",
    "train_images = list(paths.list_images(\"/home/priyanka-s1/Desktop/Projects/SelfSupervisedLearning/SimCLR-in-TensorFlow-2-master/DATASET/full_train/\"))\n",
    "test_images = list(paths.list_images(\"/home/priyanka-s1/Desktop/Projects/SelfSupervisedLearning/SimCLR-in-TensorFlow-2-master/DATASET/test/\"))\n",
    "print(len(train_images), len(test_images))"
   ]
  },
  {
   "cell_type": "code",
   "execution_count": 4,
   "metadata": {
    "colab": {},
    "colab_type": "code",
    "id": "eOLU3Y224oXl"
   },
   "outputs": [],
   "source": [
    "def prepare_images(image_paths):\n",
    "    images = []\n",
    "    labels = []\n",
    "\n",
    "    for image in tqdm(image_paths):\n",
    "        image_pixels = plt.imread(image)\n",
    "        #print(image_pixels.shape)\n",
    "        image_pixels = cv2.resize(image_pixels, (224, 224))\n",
    "        image_pixels = image_pixels/255.\n",
    "\n",
    "        label = image.split(\"/\")[-2].split(\"_\")[0]\n",
    "\n",
    "        images.append(image_pixels)\n",
    "        labels.append(label)\n",
    "\n",
    "    images = np.array(images)\n",
    "    labels = np.array(labels)\n",
    "\n",
    "    #print(images.shape, labels.shape)\n",
    "\n",
    "    return images, labels"
   ]
  },
  {
   "cell_type": "code",
   "execution_count": 5,
   "metadata": {
    "colab": {
     "base_uri": "https://localhost:8080/",
     "height": 85
    },
    "colab_type": "code",
    "id": "cWMYKwiW40f6",
    "outputId": "169bc817-3eeb-4a58-f00c-44b58fd1830c"
   },
   "outputs": [
    {
     "name": "stderr",
     "output_type": "stream",
     "text": [
      "100%|██████████| 2070/2070 [00:13<00:00, 156.48it/s]\n",
      "100%|██████████| 230/230 [00:01<00:00, 206.81it/s]\n"
     ]
    }
   ],
   "source": [
    "X_train, y_train = prepare_images(train_images)\n",
    "X_test, y_test = prepare_images(test_images)"
   ]
  },
  {
   "cell_type": "code",
   "execution_count": 6,
   "metadata": {
    "colab": {},
    "colab_type": "code",
    "id": "0hbCPZRP45aJ"
   },
   "outputs": [],
   "source": [
    "le = LabelEncoder()\n",
    "y_train_enc = le.fit_transform(y_train)\n",
    "y_test_enc = le.transform(y_test)"
   ]
  },
  {
   "cell_type": "code",
   "execution_count": 7,
   "metadata": {
    "colab": {},
    "colab_type": "code",
    "id": "KPT9-NWT6Q5p"
   },
   "outputs": [],
   "source": [
    "# Set up TensorFlow dataset for performance optimization\n",
    "\n",
    "AUTO = tf.data.experimental.AUTOTUNE\n",
    "BATCH_SIZE = 32\n",
    "\n",
    "train_ds = (\n",
    "    tf.data.Dataset.from_tensor_slices((X_train, y_train_enc))\n",
    "    .shuffle(1024)\n",
    "    .batch(BATCH_SIZE)\n",
    "    .prefetch(AUTO)\n",
    ")\n",
    "\n",
    "test_ds = (\n",
    "    tf.data.Dataset.from_tensor_slices((X_test, y_test_enc))\n",
    "    .shuffle(128)\n",
    "    .batch(BATCH_SIZE)\n",
    "    .prefetch(AUTO)\n",
    ")"
   ]
  },
  {
   "cell_type": "markdown",
   "metadata": {
    "colab_type": "text",
    "id": "p-bth_5SeUcC"
   },
   "source": [
    "## Utilities"
   ]
  },
  {
   "cell_type": "code",
   "execution_count": 8,
   "metadata": {
    "colab": {},
    "colab_type": "code",
    "id": "r3mCu1yI49fT"
   },
   "outputs": [],
   "source": [
    "# Architecture utils\n",
    "def get_resnet():\n",
    "    base_model = tf.keras.applications.ResNet50(include_top=False, weights=None, input_shape=(224, 224, 3))\n",
    "    base_model.trainable = True\n",
    "    \n",
    "    inputs = Input((224, 224, 3))\n",
    "    features = base_model(inputs, training=False)\n",
    "    pooled_features = GlobalAveragePooling2D()(features)\n",
    "\n",
    "    pooled_features = Dense(256)(pooled_features)\n",
    "    pooled_features = Activation(\"relu\")(pooled_features)\n",
    "    outputs = Dense(23, activation=\"softmax\")(pooled_features)\n",
    "\n",
    "    resnet_simclr = Model(inputs, outputs)\n",
    "\n",
    "    return resnet_simclr"
   ]
  },
  {
   "cell_type": "code",
   "execution_count": 9,
   "metadata": {
    "colab": {},
    "colab_type": "code",
    "id": "NBrNUWWp6F5Q"
   },
   "outputs": [],
   "source": [
    "def plot_training(H):\n",
    "\twith plt.xkcd():\n",
    "\t\tplt.plot(H.history[\"loss\"], label=\"train_loss\")\n",
    "\t\tplt.plot(H.history[\"val_loss\"], label=\"val_loss\")\n",
    "\t\tplt.plot(H.history[\"accuracy\"], label=\"train_acc\")\n",
    "\t\tplt.plot(H.history[\"val_accuracy\"], label=\"val_acc\")\n",
    "\t\tplt.title(\"Training Loss and Accuracy\")\n",
    "\t\tplt.xlabel(\"Epoch #\")\n",
    "\t\tplt.ylabel(\"Loss/Accuracy\")\n",
    "\t\tplt.legend(loc=\"lower left\")\n",
    "\t\tplt.show()"
   ]
  },
  {
   "cell_type": "markdown",
   "metadata": {
    "colab_type": "text",
    "id": "p1WyaOnoeY2R"
   },
   "source": [
    "## Training"
   ]
  },
  {
   "cell_type": "code",
   "execution_count": 10,
   "metadata": {
    "colab": {},
    "colab_type": "code",
    "id": "Df8sYNoq6LoS"
   },
   "outputs": [],
   "source": [
    "# Early Stopping to prevent overfitting\n",
    "es = tf.keras.callbacks.EarlyStopping(monitor=\"val_loss\", patience=2, verbose=2, restore_best_weights=True)"
   ]
  },
  {
   "cell_type": "code",
   "execution_count": 11,
   "metadata": {
    "colab": {
     "base_uri": "https://localhost:8080/",
     "height": 357
    },
    "colab_type": "code",
    "id": "fG_OQZ1j55iG",
    "outputId": "be3dc84e-a907-49a0-e7c6-8ea82b3ec046"
   },
   "outputs": [
    {
     "name": "stdout",
     "output_type": "stream",
     "text": [
      "Model: \"model\"\n",
      "_________________________________________________________________\n",
      "Layer (type)                 Output Shape              Param #   \n",
      "=================================================================\n",
      "input_2 (InputLayer)         [(None, 224, 224, 3)]     0         \n",
      "_________________________________________________________________\n",
      "resnet50 (Functional)        (None, 7, 7, 2048)        23587712  \n",
      "_________________________________________________________________\n",
      "global_average_pooling2d (Gl (None, 2048)              0         \n",
      "_________________________________________________________________\n",
      "dense (Dense)                (None, 256)               524544    \n",
      "_________________________________________________________________\n",
      "activation (Activation)      (None, 256)               0         \n",
      "_________________________________________________________________\n",
      "dense_1 (Dense)              (None, 23)                5911      \n",
      "=================================================================\n",
      "Total params: 24,118,167\n",
      "Trainable params: 24,065,047\n",
      "Non-trainable params: 53,120\n",
      "_________________________________________________________________\n"
     ]
    }
   ],
   "source": [
    "get_resnet().summary()"
   ]
  },
  {
   "cell_type": "code",
   "execution_count": 12,
   "metadata": {
    "colab": {
     "base_uri": "https://localhost:8080/",
     "height": 1000
    },
    "colab_type": "code",
    "id": "vHVEJ6Li6Eo8",
    "outputId": "c99e8e1a-211f-4b2a-9d25-25d0d053f62d"
   },
   "outputs": [
    {
     "name": "stdout",
     "output_type": "stream",
     "text": [
      "Epoch 1/20\n",
      "65/65 [==============================] - 603s 9s/step - loss: 3.1427 - accuracy: 0.0512 - val_loss: 3.2170 - val_accuracy: 0.0435\n",
      "Epoch 2/20\n",
      "65/65 [==============================] - 588s 9s/step - loss: 3.1464 - accuracy: 0.0396 - val_loss: 3.2364 - val_accuracy: 0.0435\n",
      "Epoch 3/20\n",
      "65/65 [==============================] - 600s 9s/step - loss: 3.1459 - accuracy: 0.0459 - val_loss: 3.1892 - val_accuracy: 0.0435\n",
      "Epoch 4/20\n",
      "65/65 [==============================] - 582s 9s/step - loss: 3.1413 - accuracy: 0.0502 - val_loss: 3.1656 - val_accuracy: 0.0435\n",
      "Epoch 5/20\n",
      "65/65 [==============================] - 575s 9s/step - loss: 3.1375 - accuracy: 0.0536 - val_loss: 3.1568 - val_accuracy: 0.0435\n",
      "Epoch 6/20\n",
      "65/65 [==============================] - 33660s 526s/step - loss: 3.1255 - accuracy: 0.0570 - val_loss: 3.1444 - val_accuracy: 0.0435\n",
      "Epoch 7/20\n",
      "65/65 [==============================] - 576s 9s/step - loss: 3.1286 - accuracy: 0.0502 - val_loss: 3.1624 - val_accuracy: 0.0435\n",
      "Epoch 8/20\n",
      "65/65 [==============================] - 575s 9s/step - loss: 3.1356 - accuracy: 0.0580 - val_loss: 3.1864 - val_accuracy: 0.0435\n",
      "Restoring model weights from the end of the best epoch.\n",
      "Epoch 00008: early stopping\n"
     ]
    },
    {
     "name": "stderr",
     "output_type": "stream",
     "text": [
      "findfont: Font family ['xkcd', 'xkcd Script', 'Humor Sans', 'Comic Neue', 'Comic Sans MS'] not found. Falling back to DejaVu Sans.\n",
      "findfont: Font family ['xkcd', 'xkcd Script', 'Humor Sans', 'Comic Neue', 'Comic Sans MS'] not found. Falling back to DejaVu Sans.\n"
     ]
    },
    {
     "data": {
      "image/png": "[encoded data removed]",
      "text/plain": [
       "<Figure size 432x288 with 1 Axes>"
      ]
     },
     "metadata": {},
     "output_type": "display_data"
    }
   ],
   "source": [
    "# Train the supervised model with full data\n",
    "\n",
    "model = get_resnet()\n",
    "model.compile(loss=\"sparse_categorical_crossentropy\", metrics=[\"accuracy\"],\n",
    "              optimizer=tf.keras.optimizers.Adam(1e-3))\n",
    "history = model.fit(train_ds,\n",
    "                    validation_data=test_ds,\n",
    "                    epochs=20,\n",
    "                    callbacks=[es])\n",
    "plot_training(history)"
   ]
  },
  {
   "cell_type": "code",
   "execution_count": 14,
   "metadata": {},
   "outputs": [
    {
     "name": "stdout",
     "output_type": "stream",
     "text": [
      "Test loss: 3.144404411315918\n",
      "Test accuracy: 0.043478261679410934\n"
     ]
    }
   ],
   "source": [
    "score=model.evaluate(X_test, y_test_enc, verbose=0)\n",
    "\n",
    "print('Test loss:', score[0]) \n",
    "print('Test accuracy:', score[1])"
   ]
  },
  {
   "cell_type": "code",
   "execution_count": 19,
   "metadata": {},
   "outputs": [],
   "source": [
    "res_pred = model.predict(test_ds)"
   ]
  },
  {
   "cell_type": "code",
   "execution_count": 20,
   "metadata": {},
   "outputs": [
    {
     "name": "stdout",
     "output_type": "stream",
     "text": [
      "230\n"
     ]
    }
   ],
   "source": [
    "print(len(res_pred))"
   ]
  },
  {
   "cell_type": "code",
   "execution_count": null,
   "metadata": {},
   "outputs": [],
   "source": []
  }
 ],
 "metadata": {
  "accelerator": "GPU",
  "colab": {
   "include_colab_link": true,
   "name": "scratchpad",
   "provenance": []
  },
  "kernelspec": {
   "display_name": "Python 3",
   "language": "python",
   "name": "python3"
  },
  "language_info": {
   "codemirror_mode": {
    "name": "ipython",
    "version": 3
   },
   "file_extension": ".py",
   "mimetype": "text/x-python",
   "name": "python",
   "nbconvert_exporter": "python",
   "pygments_lexer": "ipython3",
   "version": "3.6.9"
  }
 },
 "nbformat": 4,
 "nbformat_minor": 1
}
