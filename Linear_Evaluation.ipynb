{
 "cells": [
  {
   "cell_type": "markdown",
   "metadata": {
    "colab_type": "text",
    "id": "view-in-github"
   },
   "source": [
    "<a href=\"https://colab.research.google.com/github/sayakpaul/SimCLR-in-TensorFlow-2/blob/master/Linear_Evaluation_Imagenet_Subset.ipynb\" target=\"_parent\"><img src=\"https://colab.research.google.com/assets/colab-badge.svg\" alt=\"Open In Colab\"/></a>"
   ]
  },
  {
   "cell_type": "markdown",
   "metadata": {
    "colab_type": "text",
    "id": "7ck3ljcss8R2"
   },
   "source": [
    "## Initial setup"
   ]
  },
  {
   "cell_type": "code",
   "execution_count": 3,
   "metadata": {
    "colab": {
     "base_uri": "https://localhost:8080/",
     "height": 34
    },
    "colab_type": "code",
    "id": "lIYdn1woOS1n",
    "outputId": "e99adefa-b6fd-4bbc-c6f2-a5ac3b5cbafd"
   },
   "outputs": [
    {
     "name": "stdout",
     "output_type": "stream",
     "text": [
      "2.6.2\n"
     ]
    }
   ],
   "source": [
    "import tensorflow as tf\n",
    "print(tf.__version__)"
   ]
  },
  {
   "cell_type": "code",
   "execution_count": 2,
   "metadata": {},
   "outputs": [
    {
     "name": "stdout",
     "output_type": "stream",
     "text": [
      "Collecting tensorflow\n",
      "  Using cached tensorflow-2.6.2-cp36-cp36m-manylinux2010_x86_64.whl (458.3 MB)\n",
      "Collecting typing-extensions~=3.7.4\n",
      "  Using cached typing_extensions-3.7.4.3-py3-none-any.whl (22 kB)\n",
      "Requirement already satisfied: grpcio<2.0,>=1.37.0 in /home/priyanka-s1/Desktop/Projects/SelfSupervisedLearning/env/lib/python3.6/site-packages (from tensorflow) (1.48.1)\n",
      "Collecting h5py~=3.1.0\n",
      "  Using cached h5py-3.1.0-cp36-cp36m-manylinux1_x86_64.whl (4.0 MB)\n",
      "Requirement already satisfied: protobuf>=3.9.2 in /home/priyanka-s1/Desktop/Projects/SelfSupervisedLearning/env/lib/python3.6/site-packages (from tensorflow) (3.19.4)\n",
      "Collecting absl-py~=0.10\n",
      "  Using cached absl_py-0.15.0-py3-none-any.whl (132 kB)\n",
      "Collecting termcolor~=1.1.0\n",
      "  Using cached termcolor-1.1.0-py3-none-any.whl\n",
      "Requirement already satisfied: wheel~=0.35 in /home/priyanka-s1/Desktop/Projects/SelfSupervisedLearning/env/lib/python3.6/site-packages (from tensorflow) (0.37.1)\n",
      "Collecting astunparse~=1.6.3\n",
      "  Using cached astunparse-1.6.3-py2.py3-none-any.whl (12 kB)\n",
      "Collecting gast==0.4.0\n",
      "  Using cached gast-0.4.0-py3-none-any.whl (9.8 kB)\n",
      "Collecting tensorboard<2.7,>=2.6.0\n",
      "  Using cached tensorboard-2.6.0-py3-none-any.whl (5.6 MB)\n",
      "Collecting clang~=5.0\n",
      "  Using cached clang-5.0-py3-none-any.whl\n",
      "Requirement already satisfied: numpy~=1.19.2 in /home/priyanka-s1/Desktop/Projects/SelfSupervisedLearning/env/lib/python3.6/site-packages (from tensorflow) (1.19.5)\n",
      "Collecting google-pasta~=0.2\n",
      "  Using cached google_pasta-0.2.0-py3-none-any.whl (57 kB)\n",
      "Collecting flatbuffers~=1.12.0\n",
      "  Using cached flatbuffers-1.12-py2.py3-none-any.whl (15 kB)\n",
      "Collecting six~=1.15.0\n",
      "  Using cached six-1.15.0-py2.py3-none-any.whl (10 kB)\n",
      "Collecting tensorflow-estimator<2.7,>=2.6.0\n",
      "  Using cached tensorflow_estimator-2.6.0-py2.py3-none-any.whl (462 kB)\n",
      "Collecting wrapt~=1.12.1\n",
      "  Using cached wrapt-1.12.1-cp36-cp36m-linux_x86_64.whl\n",
      "Collecting opt-einsum~=3.3.0\n",
      "  Using cached opt_einsum-3.3.0-py3-none-any.whl (65 kB)\n",
      "Collecting keras<2.7,>=2.6.0\n",
      "  Using cached keras-2.6.0-py2.py3-none-any.whl (1.3 MB)\n",
      "Collecting keras-preprocessing~=1.1.2\n",
      "  Using cached Keras_Preprocessing-1.1.2-py2.py3-none-any.whl (42 kB)\n",
      "Collecting cached-property\n",
      "  Using cached cached_property-1.5.2-py2.py3-none-any.whl (7.6 kB)\n",
      "Requirement already satisfied: tensorboard-plugin-wit>=1.6.0 in /home/priyanka-s1/Desktop/Projects/SelfSupervisedLearning/env/lib/python3.6/site-packages (from tensorboard<2.7,>=2.6.0->tensorflow) (1.8.1)\n",
      "Requirement already satisfied: setuptools>=41.0.0 in /home/priyanka-s1/Desktop/Projects/SelfSupervisedLearning/env/lib/python3.6/site-packages (from tensorboard<2.7,>=2.6.0->tensorflow) (59.5.0)\n",
      "Requirement already satisfied: tensorboard-data-server<0.7.0,>=0.6.0 in /home/priyanka-s1/Desktop/Projects/SelfSupervisedLearning/env/lib/python3.6/site-packages (from tensorboard<2.7,>=2.6.0->tensorflow) (0.6.1)\n",
      "Requirement already satisfied: google-auth-oauthlib<0.5,>=0.4.1 in /home/priyanka-s1/Desktop/Projects/SelfSupervisedLearning/env/lib/python3.6/site-packages (from tensorboard<2.7,>=2.6.0->tensorflow) (0.4.6)\n",
      "Requirement already satisfied: markdown>=2.6.8 in /home/priyanka-s1/Desktop/Projects/SelfSupervisedLearning/env/lib/python3.6/site-packages (from tensorboard<2.7,>=2.6.0->tensorflow) (3.3.7)\n",
      "Requirement already satisfied: requests<3,>=2.21.0 in /home/priyanka-s1/Desktop/Projects/SelfSupervisedLearning/env/lib/python3.6/site-packages (from tensorboard<2.7,>=2.6.0->tensorflow) (2.27.1)\n",
      "Requirement already satisfied: werkzeug>=0.11.15 in /home/priyanka-s1/Desktop/Projects/SelfSupervisedLearning/env/lib/python3.6/site-packages (from tensorboard<2.7,>=2.6.0->tensorflow) (2.0.3)\n",
      "Collecting google-auth<2,>=1.6.3\n",
      "  Using cached google_auth-1.35.0-py2.py3-none-any.whl (152 kB)\n",
      "Requirement already satisfied: pyasn1-modules>=0.2.1 in /home/priyanka-s1/Desktop/Projects/SelfSupervisedLearning/env/lib/python3.6/site-packages (from google-auth<2,>=1.6.3->tensorboard<2.7,>=2.6.0->tensorflow) (0.2.8)\n",
      "Requirement already satisfied: cachetools<5.0,>=2.0.0 in /home/priyanka-s1/Desktop/Projects/SelfSupervisedLearning/env/lib/python3.6/site-packages (from google-auth<2,>=1.6.3->tensorboard<2.7,>=2.6.0->tensorflow) (4.2.4)\n",
      "Requirement already satisfied: rsa<5,>=3.1.4 in /home/priyanka-s1/Desktop/Projects/SelfSupervisedLearning/env/lib/python3.6/site-packages (from google-auth<2,>=1.6.3->tensorboard<2.7,>=2.6.0->tensorflow) (4.9)\n",
      "Requirement already satisfied: requests-oauthlib>=0.7.0 in /home/priyanka-s1/Desktop/Projects/SelfSupervisedLearning/env/lib/python3.6/site-packages (from google-auth-oauthlib<0.5,>=0.4.1->tensorboard<2.7,>=2.6.0->tensorflow) (1.3.1)\n",
      "Requirement already satisfied: importlib-metadata>=4.4 in /home/priyanka-s1/Desktop/Projects/SelfSupervisedLearning/env/lib/python3.6/site-packages (from markdown>=2.6.8->tensorboard<2.7,>=2.6.0->tensorflow) (4.8.3)\n",
      "Requirement already satisfied: idna<4,>=2.5 in /home/priyanka-s1/Desktop/Projects/SelfSupervisedLearning/env/lib/python3.6/site-packages (from requests<3,>=2.21.0->tensorboard<2.7,>=2.6.0->tensorflow) (3.3)\n",
      "Requirement already satisfied: charset-normalizer~=2.0.0 in /home/priyanka-s1/Desktop/Projects/SelfSupervisedLearning/env/lib/python3.6/site-packages (from requests<3,>=2.21.0->tensorboard<2.7,>=2.6.0->tensorflow) (2.0.12)\n",
      "Requirement already satisfied: certifi>=2017.4.17 in /home/priyanka-s1/Desktop/Projects/SelfSupervisedLearning/env/lib/python3.6/site-packages (from requests<3,>=2.21.0->tensorboard<2.7,>=2.6.0->tensorflow) (2022.6.15)\n",
      "Requirement already satisfied: urllib3<1.27,>=1.21.1 in /home/priyanka-s1/Desktop/Projects/SelfSupervisedLearning/env/lib/python3.6/site-packages (from requests<3,>=2.21.0->tensorboard<2.7,>=2.6.0->tensorflow) (1.26.12)\n",
      "Requirement already satisfied: dataclasses in /home/priyanka-s1/Desktop/Projects/SelfSupervisedLearning/env/lib/python3.6/site-packages (from werkzeug>=0.11.15->tensorboard<2.7,>=2.6.0->tensorflow) (0.8)\n",
      "Requirement already satisfied: zipp>=0.5 in /home/priyanka-s1/Desktop/Projects/SelfSupervisedLearning/env/lib/python3.6/site-packages (from importlib-metadata>=4.4->markdown>=2.6.8->tensorboard<2.7,>=2.6.0->tensorflow) (3.6.0)\n",
      "Requirement already satisfied: pyasn1<0.5.0,>=0.4.6 in /home/priyanka-s1/Desktop/Projects/SelfSupervisedLearning/env/lib/python3.6/site-packages (from pyasn1-modules>=0.2.1->google-auth<2,>=1.6.3->tensorboard<2.7,>=2.6.0->tensorflow) (0.4.8)\n",
      "Requirement already satisfied: oauthlib>=3.0.0 in /home/priyanka-s1/Desktop/Projects/SelfSupervisedLearning/env/lib/python3.6/site-packages (from requests-oauthlib>=0.7.0->google-auth-oauthlib<0.5,>=0.4.1->tensorboard<2.7,>=2.6.0->tensorflow) (3.2.0)\n",
      "Installing collected packages: typing-extensions, six, google-auth, cached-property, absl-py, wrapt, termcolor, tensorflow-estimator, tensorboard, opt-einsum, keras-preprocessing, keras, h5py, google-pasta, gast, flatbuffers, clang, astunparse, tensorflow\n",
      "  Attempting uninstall: typing-extensions\n",
      "    Found existing installation: typing-extensions 4.1.1\n",
      "    Uninstalling typing-extensions-4.1.1:\n",
      "      Successfully uninstalled typing-extensions-4.1.1\n",
      "  Attempting uninstall: six\n",
      "    Found existing installation: six 1.16.0\n",
      "    Uninstalling six-1.16.0:\n",
      "      Successfully uninstalled six-1.16.0\n",
      "  Attempting uninstall: google-auth\n",
      "    Found existing installation: google-auth 2.11.0\n",
      "    Uninstalling google-auth-2.11.0:\n",
      "      Successfully uninstalled google-auth-2.11.0\n",
      "  Attempting uninstall: absl-py\n",
      "    Found existing installation: absl-py 1.2.0\n",
      "    Uninstalling absl-py-1.2.0:\n",
      "      Successfully uninstalled absl-py-1.2.0\n",
      "  Attempting uninstall: tensorboard\n",
      "    Found existing installation: tensorboard 2.10.0\n",
      "    Uninstalling tensorboard-2.10.0:\n",
      "      Successfully uninstalled tensorboard-2.10.0\n",
      "Successfully installed absl-py-0.15.0 astunparse-1.6.3 cached-property-1.5.2 clang-5.0 flatbuffers-1.12 gast-0.4.0 google-auth-1.35.0 google-pasta-0.2.0 h5py-3.1.0 keras-2.6.0 keras-preprocessing-1.1.2 opt-einsum-3.3.0 six-1.15.0 tensorboard-2.6.0 tensorflow-2.6.2 tensorflow-estimator-2.6.0 termcolor-1.1.0 typing-extensions-3.7.4.3 wrapt-1.12.1\n"
     ]
    }
   ],
   "source": [
    "!pip3 install tensorflow"
   ]
  },
  {
   "cell_type": "markdown",
   "metadata": {
    "colab_type": "text",
    "id": "SPPNCexztM-5"
   },
   "source": [
    "### Restoring model weights from `wandb` run page"
   ]
  },
  {
   "cell_type": "code",
   "execution_count": 6,
   "metadata": {
    "colab": {},
    "colab_type": "code",
    "id": "DjvNq66HtSbc"
   },
   "outputs": [],
   "source": [
    "simclr_weights = \"/home/selfsuper/20220905-082335resnet_simclr.h5\""
   ]
  },
  {
   "cell_type": "code",
   "execution_count": 15,
   "metadata": {
    "colab": {},
    "colab_type": "code",
    "id": "dCsK6zBRpmdo"
   },
   "outputs": [],
   "source": [
    "# Other imports\n",
    "from sklearn.preprocessing import LabelEncoder\n",
    "from sklearn.manifold import TSNE\n",
    "from tensorflow.keras.layers import *\n",
    "from tensorflow.keras.models import *\n",
    "import matplotlib.pyplot as plt\n",
    "from imutils import paths\n",
    "from tqdm import tqdm\n",
    "import tensorflow as tf\n",
    "import seaborn as sns\n",
    "import numpy as np\n",
    "import cv2\n",
    "\n",
    "# Random seed fixation\n",
    "tf.random.set_seed(666)\n",
    "np.random.seed(666)"
   ]
  },
  {
   "cell_type": "code",
   "execution_count": 14,
   "metadata": {},
   "outputs": [
    {
     "name": "stdout",
     "output_type": "stream",
     "text": [
      "Collecting imutils\n",
      "  Using cached imutils-0.5.4-py3-none-any.whl\n",
      "Installing collected packages: imutils\n",
      "Successfully installed imutils-0.5.4\n"
     ]
    }
   ],
   "source": [
    "!pip3 install imutils"
   ]
  },
  {
   "cell_type": "markdown",
   "metadata": {
    "colab_type": "text",
    "id": "yP3vs53rs8SM"
   },
   "source": [
    "## Dataset gathering and preparation"
   ]
  },
  {
   "cell_type": "code",
   "execution_count": 16,
   "metadata": {
    "colab": {
     "base_uri": "https://localhost:8080/",
     "height": 34
    },
    "colab_type": "code",
    "id": "2PRnOXCdppEg",
    "outputId": "26d0f0bc-3aeb-4dc5-c68b-5ac258c731f4"
   },
   "outputs": [
    {
     "name": "stdout",
     "output_type": "stream",
     "text": [
      "460 230\n"
     ]
    }
   ],
   "source": [
    "# Train and test image paths\n",
    "train_images_10 = list(paths.list_images(\"/home/Experiment_data/TRAIN/\"))\n",
    "test_images = list(paths.list_images(\"/home/Experiment_data/test/\"))\n",
    "print(len(train_images), len(test_images))"
   ]
  },
  {
   "cell_type": "code",
   "execution_count": 18,
   "metadata": {
    "colab": {},
    "colab_type": "code",
    "id": "9giRP85TqizW"
   },
   "outputs": [],
   "source": [
    "def prepare_images(image_paths):\n",
    "    images = []\n",
    "    labels = []\n",
    "\n",
    "    for image in tqdm(image_paths):\n",
    "        image_pixels = plt.imread(image)\n",
    "        image_pixels = cv2.resize(image_pixels, (224, 224))\n",
    "        image_pixels = image_pixels/255.\n",
    "\n",
    "        label = image.split(\"/\")[2].split(\"_\")[0]\n",
    "\n",
    "        images.append(image_pixels)\n",
    "        labels.append(label)\n",
    "\n",
    "    images = np.array(images)\n",
    "    labels = np.array(labels)\n",
    "\n",
    "    print(images.shape, labels.shape)\n",
    "\n",
    "    return images, labels"
   ]
  },
  {
   "cell_type": "code",
   "execution_count": 19,
   "metadata": {
    "colab": {
     "base_uri": "https://localhost:8080/",
     "height": 85
    },
    "colab_type": "code",
    "id": "YJL8IW6UsHkt",
    "outputId": "40d6680c-b4e5-4ef8-fede-cc63a38b2c99"
   },
   "outputs": [
    {
     "name": "stderr",
     "output_type": "stream",
     "text": [
      "100%|██████████| 460/460 [00:06<00:00, 70.34it/s]\n"
     ]
    },
    {
     "name": "stdout",
     "output_type": "stream",
     "text": [
      "(460, 224, 224, 3) (460,)\n"
     ]
    },
    {
     "name": "stderr",
     "output_type": "stream",
     "text": [
      "100%|██████████| 230/230 [00:03<00:00, 63.89it/s]\n"
     ]
    },
    {
     "name": "stdout",
     "output_type": "stream",
     "text": [
      "(230, 224, 224, 3) (230,)\n"
     ]
    }
   ],
   "source": [
    "X_train, y_train = prepare_images(train_images_10)\n",
    "X_test, y_test = prepare_images(test_images)"
   ]
  },
  {
   "cell_type": "code",
   "execution_count": 20,
   "metadata": {
    "colab": {},
    "colab_type": "code",
    "id": "YAv47WlJvse5"
   },
   "outputs": [],
   "source": [
    "le = LabelEncoder()\n",
    "y_train_enc = le.fit_transform(y_train)\n",
    "y_test_enc = le.transform(y_test)"
   ]
  },
  {
   "cell_type": "markdown",
   "metadata": {
    "colab_type": "text",
    "id": "vdM74W7Ws8Sl"
   },
   "source": [
    "## Utilities"
   ]
  },
  {
   "cell_type": "code",
   "execution_count": 21,
   "metadata": {
    "colab": {},
    "colab_type": "code",
    "id": "G8ha8pK7sSUO"
   },
   "outputs": [],
   "source": [
    "# Architecture utils\n",
    "def get_resnet_simclr(hidden_1, hidden_2, hidden_3):\n",
    "    base_model = tf.keras.applications.ResNet50(include_top=False, weights=None, input_shape=(224, 224, 3))\n",
    "    base_model.trainable = True\n",
    "    inputs = Input((224, 224, 3))\n",
    "    h = base_model(inputs, training=False)\n",
    "    h = GlobalAveragePooling2D()(h)\n",
    "\n",
    "    projection_1 = Dense(hidden_1)(h)\n",
    "    projection_1 = Activation(\"relu\")(projection_1)\n",
    "    projection_2 = Dense(hidden_2)(projection_1)\n",
    "    projection_2 = Activation(\"relu\")(projection_2)\n",
    "    projection_3 = Dense(hidden_3)(projection_2)\n",
    "\n",
    "    resnet_simclr = Model(inputs, projection_3)\n",
    "\n",
    "    return resnet_simclr"
   ]
  },
  {
   "cell_type": "code",
   "execution_count": 23,
   "metadata": {
    "colab": {
     "base_uri": "https://localhost:8080/",
     "height": 425
    },
    "colab_type": "code",
    "id": "X0GklYB-sZYz",
    "outputId": "69ad5215-d3e5-43ca-8937-5d14217675ee"
   },
   "outputs": [
    {
     "name": "stdout",
     "output_type": "stream",
     "text": [
      "Model: \"model_1\"\n",
      "_________________________________________________________________\n",
      "Layer (type)                 Output Shape              Param #   \n",
      "=================================================================\n",
      "input_4 (InputLayer)         [(None, 224, 224, 3)]     0         \n",
      "_________________________________________________________________\n",
      "resnet50 (Functional)        (None, 7, 7, 2048)        23587712  \n",
      "_________________________________________________________________\n",
      "global_average_pooling2d_1 ( (None, 2048)              0         \n",
      "_________________________________________________________________\n",
      "dense_3 (Dense)              (None, 256)               524544    \n",
      "_________________________________________________________________\n",
      "activation_2 (Activation)    (None, 256)               0         \n",
      "_________________________________________________________________\n",
      "dense_4 (Dense)              (None, 128)               32896     \n",
      "_________________________________________________________________\n",
      "activation_3 (Activation)    (None, 128)               0         \n",
      "_________________________________________________________________\n",
      "dense_5 (Dense)              (None, 50)                6450      \n",
      "=================================================================\n",
      "Total params: 24,151,602\n",
      "Trainable params: 24,098,482\n",
      "Non-trainable params: 53,120\n",
      "_________________________________________________________________\n"
     ]
    }
   ],
   "source": [
    "resnet_simclr = get_resnet_simclr(256, 128, 50)\n",
    "resnet_simclr.load_weights(simclr_weights)\n",
    "resnet_simclr.summary()"
   ]
  },
  {
   "cell_type": "code",
   "execution_count": 24,
   "metadata": {
    "colab": {},
    "colab_type": "code",
    "id": "Z1tFKw-7ziaG"
   },
   "outputs": [],
   "source": [
    "def plot_training(H):\n",
    "\twith plt.xkcd():\n",
    "\t\tplt.plot(H.history[\"loss\"], label=\"train_loss\")\n",
    "\t\tplt.plot(H.history[\"val_loss\"], label=\"val_loss\")\n",
    "\t\tplt.plot(H.history[\"accuracy\"], label=\"train_acc\")\n",
    "\t\tplt.plot(H.history[\"val_accuracy\"], label=\"val_acc\")\n",
    "\t\tplt.title(\"Training Loss and Accuracy\")\n",
    "\t\tplt.xlabel(\"Epoch #\")\n",
    "\t\tplt.ylabel(\"Loss/Accuracy\")\n",
    "\t\tplt.legend(loc=\"lower left\")\n",
    "\t\tplt.show()"
   ]
  },
  {
   "cell_type": "code",
   "execution_count": 25,
   "metadata": {
    "colab": {},
    "colab_type": "code",
    "id": "7XojYORatX4p"
   },
   "outputs": [],
   "source": [
    "def get_linear_model(features):\n",
    "    linear_model = Sequential([Dense(5, input_shape=(features, ), activation=\"softmax\")])\n",
    "    return linear_model"
   ]
  },
  {
   "cell_type": "markdown",
   "metadata": {
    "colab_type": "text",
    "id": "_s0nfTYos8Sy"
   },
   "source": [
    "## Evaluation"
   ]
  },
  {
   "cell_type": "code",
   "execution_count": 26,
   "metadata": {
    "colab": {},
    "colab_type": "code",
    "id": "RGk081OMMl2a"
   },
   "outputs": [
    {
     "name": "stdout",
     "output_type": "stream",
     "text": [
      "Model: \"model_1\"\n",
      "_________________________________________________________________\n",
      "Layer (type)                 Output Shape              Param #   \n",
      "=================================================================\n",
      "input_4 (InputLayer)         [(None, 224, 224, 3)]     0         \n",
      "_________________________________________________________________\n",
      "resnet50 (Functional)        (None, 7, 7, 2048)        23587712  \n",
      "_________________________________________________________________\n",
      "global_average_pooling2d_1 ( (None, 2048)              0         \n",
      "_________________________________________________________________\n",
      "dense_3 (Dense)              (None, 256)               524544    \n",
      "_________________________________________________________________\n",
      "activation_2 (Activation)    (None, 256)               0         \n",
      "_________________________________________________________________\n",
      "dense_4 (Dense)              (None, 128)               32896     \n",
      "_________________________________________________________________\n",
      "activation_3 (Activation)    (None, 128)               0         \n",
      "_________________________________________________________________\n",
      "dense_5 (Dense)              (None, 50)                6450      \n",
      "=================================================================\n",
      "Total params: 24,151,602\n",
      "Trainable params: 563,890\n",
      "Non-trainable params: 23,587,712\n",
      "_________________________________________________________________\n"
     ]
    }
   ],
   "source": [
    "resnet_simclr.layers[1].trainable = False\n",
    "resnet_simclr.summary()"
   ]
  },
  {
   "cell_type": "code",
   "execution_count": 27,
   "metadata": {
    "colab": {
     "base_uri": "https://localhost:8080/",
     "height": 34
    },
    "colab_type": "code",
    "id": "qnNJ5BKPsj4u",
    "outputId": "4dc98108-f99c-41a5-8c2c-ddc20d9bff1b"
   },
   "outputs": [
    {
     "name": "stdout",
     "output_type": "stream",
     "text": [
      "(460, 128) (230, 128)\n"
     ]
    }
   ],
   "source": [
    "# Encoder model with non-linear projections\n",
    "projection = Model(resnet_simclr.input, resnet_simclr.layers[-2].output)\n",
    "\n",
    "# Extract train and test features\n",
    "train_features = projection.predict(X_train)\n",
    "test_features = projection.predict(X_test)\n",
    "\n",
    "print(train_features.shape, test_features.shape)"
   ]
  },
  {
   "cell_type": "code",
   "execution_count": 28,
   "metadata": {
    "colab": {},
    "colab_type": "code",
    "id": "1B9C0a6003-O"
   },
   "outputs": [],
   "source": [
    "# Early Stopping to prevent overfitting\n",
    "es = tf.keras.callbacks.EarlyStopping(monitor=\"val_loss\", patience=2, verbose=2, restore_best_weights=True)"
   ]
  },
  {
   "cell_type": "code",
   "execution_count": 31,
   "metadata": {
    "colab": {
     "base_uri": "https://localhost:8080/",
     "height": 1000
    },
    "colab_type": "code",
    "id": "-Rb-lf8KvMtR",
    "outputId": "0dbbf73e-0d07-4ddb-c69e-885ab3019bff"
   },
   "outputs": [
    {
     "name": "stdout",
     "output_type": "stream",
     "text": [
      "Epoch 1/30\n",
      "29/29 [==============================] - 0s 6ms/step - loss: 2.0489 - accuracy: 0.6565 - val_loss: 0.1603 - val_accuracy: 0.9609\n",
      "Epoch 2/30\n",
      "29/29 [==============================] - 0s 2ms/step - loss: 0.1182 - accuracy: 0.9739 - val_loss: 0.0091 - val_accuracy: 0.9957\n",
      "Epoch 3/30\n",
      "29/29 [==============================] - 0s 2ms/step - loss: 0.0107 - accuracy: 0.9935 - val_loss: 0.0030 - val_accuracy: 1.0000\n",
      "Epoch 4/30\n",
      "29/29 [==============================] - 0s 2ms/step - loss: 0.0036 - accuracy: 1.0000 - val_loss: 0.0018 - val_accuracy: 1.0000\n",
      "Epoch 5/30\n",
      "29/29 [==============================] - 0s 2ms/step - loss: 0.0023 - accuracy: 1.0000 - val_loss: 0.0012 - val_accuracy: 1.0000\n",
      "Epoch 6/30\n",
      "29/29 [==============================] - 0s 2ms/step - loss: 0.0015 - accuracy: 1.0000 - val_loss: 9.6198e-04 - val_accuracy: 1.0000\n",
      "Epoch 7/30\n",
      "29/29 [==============================] - 0s 2ms/step - loss: 0.0012 - accuracy: 1.0000 - val_loss: 7.6146e-04 - val_accuracy: 1.0000\n",
      "Epoch 8/30\n",
      "29/29 [==============================] - 0s 2ms/step - loss: 9.3715e-04 - accuracy: 1.0000 - val_loss: 6.1543e-04 - val_accuracy: 1.0000\n",
      "Epoch 9/30\n",
      "29/29 [==============================] - 0s 2ms/step - loss: 7.6460e-04 - accuracy: 1.0000 - val_loss: 5.1972e-04 - val_accuracy: 1.0000\n",
      "Epoch 10/30\n",
      "29/29 [==============================] - 0s 2ms/step - loss: 6.4300e-04 - accuracy: 1.0000 - val_loss: 4.5442e-04 - val_accuracy: 1.0000\n",
      "Epoch 11/30\n",
      "29/29 [==============================] - 0s 2ms/step - loss: 5.5948e-04 - accuracy: 1.0000 - val_loss: 3.9277e-04 - val_accuracy: 1.0000\n",
      "Epoch 12/30\n",
      "29/29 [==============================] - 0s 2ms/step - loss: 4.8721e-04 - accuracy: 1.0000 - val_loss: 3.5405e-04 - val_accuracy: 1.0000\n",
      "Epoch 13/30\n",
      "29/29 [==============================] - 0s 1ms/step - loss: 4.3260e-04 - accuracy: 1.0000 - val_loss: 3.1500e-04 - val_accuracy: 1.0000\n",
      "Epoch 14/30\n",
      "29/29 [==============================] - 0s 1ms/step - loss: 3.8681e-04 - accuracy: 1.0000 - val_loss: 2.8417e-04 - val_accuracy: 1.0000\n",
      "Epoch 15/30\n",
      "29/29 [==============================] - 0s 2ms/step - loss: 3.5018e-04 - accuracy: 1.0000 - val_loss: 2.5700e-04 - val_accuracy: 1.0000\n",
      "Epoch 16/30\n",
      "29/29 [==============================] - 0s 2ms/step - loss: 3.1668e-04 - accuracy: 1.0000 - val_loss: 2.3719e-04 - val_accuracy: 1.0000\n",
      "Epoch 17/30\n",
      "29/29 [==============================] - 0s 2ms/step - loss: 2.9060e-04 - accuracy: 1.0000 - val_loss: 2.1948e-04 - val_accuracy: 1.0000\n",
      "Epoch 18/30\n",
      "29/29 [==============================] - 0s 2ms/step - loss: 2.6814e-04 - accuracy: 1.0000 - val_loss: 2.0564e-04 - val_accuracy: 1.0000\n",
      "Epoch 19/30\n",
      "29/29 [==============================] - 0s 2ms/step - loss: 2.4833e-04 - accuracy: 1.0000 - val_loss: 1.8942e-04 - val_accuracy: 1.0000\n",
      "Epoch 20/30\n",
      "29/29 [==============================] - 0s 2ms/step - loss: 2.3106e-04 - accuracy: 1.0000 - val_loss: 1.7518e-04 - val_accuracy: 1.0000\n",
      "Epoch 21/30\n",
      "29/29 [==============================] - 0s 1ms/step - loss: 2.1414e-04 - accuracy: 1.0000 - val_loss: 1.6516e-04 - val_accuracy: 1.0000\n",
      "Epoch 22/30\n",
      "29/29 [==============================] - 0s 2ms/step - loss: 2.0042e-04 - accuracy: 1.0000 - val_loss: 1.5650e-04 - val_accuracy: 1.0000\n",
      "Epoch 23/30\n",
      "29/29 [==============================] - 0s 2ms/step - loss: 1.8966e-04 - accuracy: 1.0000 - val_loss: 1.4484e-04 - val_accuracy: 1.0000\n",
      "Epoch 24/30\n",
      "29/29 [==============================] - 0s 2ms/step - loss: 1.7690e-04 - accuracy: 1.0000 - val_loss: 1.3847e-04 - val_accuracy: 1.0000\n",
      "Epoch 25/30\n",
      "29/29 [==============================] - 0s 2ms/step - loss: 1.6775e-04 - accuracy: 1.0000 - val_loss: 1.2950e-04 - val_accuracy: 1.0000\n",
      "Epoch 26/30\n",
      "29/29 [==============================] - 0s 2ms/step - loss: 1.5803e-04 - accuracy: 1.0000 - val_loss: 1.2302e-04 - val_accuracy: 1.0000\n",
      "Epoch 27/30\n",
      "29/29 [==============================] - 0s 2ms/step - loss: 1.4942e-04 - accuracy: 1.0000 - val_loss: 1.1746e-04 - val_accuracy: 1.0000\n",
      "Epoch 28/30\n",
      "29/29 [==============================] - 0s 2ms/step - loss: 1.4214e-04 - accuracy: 1.0000 - val_loss: 1.1178e-04 - val_accuracy: 1.0000\n",
      "Epoch 29/30\n",
      "29/29 [==============================] - 0s 2ms/step - loss: 1.3534e-04 - accuracy: 1.0000 - val_loss: 1.0626e-04 - val_accuracy: 1.0000\n",
      "Epoch 30/30\n",
      "29/29 [==============================] - 0s 2ms/step - loss: 1.2916e-04 - accuracy: 1.0000 - val_loss: 1.0080e-04 - val_accuracy: 1.0000\n"
     ]
    },
    {
     "data": {
      "image/png": "[encoded data removed]",
      "text/plain": [
       "<Figure size 432x288 with 1 Axes>"
      ]
     },
     "metadata": {},
     "output_type": "display_data"
    }
   ],
   "source": [
    "# Linear model\n",
    "\n",
    "linear_model = get_linear_model(128)\n",
    "linear_model.compile(loss=\"sparse_categorical_crossentropy\", metrics=[\"accuracy\"],\n",
    "                     optimizer=\"adam\")\n",
    "history = linear_model.fit(train_features, y_train_enc,\n",
    "                 validation_data=(test_features, y_test_enc),\n",
    "                 batch_size=16,\n",
    "                 epochs=30,\n",
    "                 callbacks=[es])\n",
    "plot_training(history)"
   ]
  },
  {
   "cell_type": "code",
   "execution_count": 32,
   "metadata": {
    "colab": {
     "base_uri": "https://localhost:8080/",
     "height": 34
    },
    "colab_type": "code",
    "id": "pNQxjmTsvd_u",
    "outputId": "4d8434f4-52bc-4fdf-c062-ef03f57df075"
   },
   "outputs": [
    {
     "name": "stdout",
     "output_type": "stream",
     "text": [
      "(460, 256) (230, 256)\n"
     ]
    }
   ],
   "source": [
    "# Encoder model with less non-linearity\n",
    "projection = Model(resnet_simclr.input, resnet_simclr.layers[-4].output)\n",
    "\n",
    "# Extract train and test features\n",
    "train_features = projection.predict(X_train)\n",
    "test_features = projection.predict(X_test)\n",
    "\n",
    "print(train_features.shape, test_features.shape)"
   ]
  },
  {
   "cell_type": "code",
   "execution_count": 34,
   "metadata": {
    "colab": {
     "base_uri": "https://localhost:8080/",
     "height": 1000
    },
    "colab_type": "code",
    "id": "N4YLxLpw1rWK",
    "outputId": "a0a2de2f-0c35-47a8-8c52-707f417a3216"
   },
   "outputs": [
    {
     "name": "stdout",
     "output_type": "stream",
     "text": [
      "Epoch 1/30\n",
      "29/29 [==============================] - 0s 6ms/step - loss: 0.6163 - accuracy: 0.8130 - val_loss: 0.0374 - val_accuracy: 0.9913\n",
      "Epoch 2/30\n",
      "29/29 [==============================] - 0s 2ms/step - loss: 0.0013 - accuracy: 1.0000 - val_loss: 0.0141 - val_accuracy: 0.9913\n",
      "Epoch 3/30\n",
      "29/29 [==============================] - 0s 2ms/step - loss: 5.6908e-04 - accuracy: 1.0000 - val_loss: 0.0114 - val_accuracy: 0.9913\n",
      "Epoch 4/30\n",
      "29/29 [==============================] - 0s 2ms/step - loss: 4.6141e-04 - accuracy: 1.0000 - val_loss: 0.0102 - val_accuracy: 0.9913\n",
      "Epoch 5/30\n",
      "29/29 [==============================] - 0s 1ms/step - loss: 4.1142e-04 - accuracy: 1.0000 - val_loss: 0.0093 - val_accuracy: 0.9913\n",
      "Epoch 6/30\n",
      "29/29 [==============================] - 0s 2ms/step - loss: 3.7645e-04 - accuracy: 1.0000 - val_loss: 0.0081 - val_accuracy: 0.9913\n",
      "Epoch 7/30\n",
      "29/29 [==============================] - 0s 2ms/step - loss: 3.3328e-04 - accuracy: 1.0000 - val_loss: 0.0073 - val_accuracy: 0.9913\n",
      "Epoch 8/30\n",
      "29/29 [==============================] - 0s 2ms/step - loss: 3.0557e-04 - accuracy: 1.0000 - val_loss: 0.0064 - val_accuracy: 0.9957\n",
      "Epoch 9/30\n",
      "29/29 [==============================] - 0s 2ms/step - loss: 2.7606e-04 - accuracy: 1.0000 - val_loss: 0.0058 - val_accuracy: 1.0000\n",
      "Epoch 10/30\n",
      "29/29 [==============================] - 0s 1ms/step - loss: 2.5326e-04 - accuracy: 1.0000 - val_loss: 0.0051 - val_accuracy: 1.0000\n",
      "Epoch 11/30\n",
      "29/29 [==============================] - 0s 2ms/step - loss: 2.3158e-04 - accuracy: 1.0000 - val_loss: 0.0047 - val_accuracy: 1.0000\n",
      "Epoch 12/30\n",
      "29/29 [==============================] - 0s 1ms/step - loss: 2.1468e-04 - accuracy: 1.0000 - val_loss: 0.0043 - val_accuracy: 1.0000\n",
      "Epoch 13/30\n",
      "29/29 [==============================] - 0s 2ms/step - loss: 1.9918e-04 - accuracy: 1.0000 - val_loss: 0.0038 - val_accuracy: 1.0000\n",
      "Epoch 14/30\n",
      "29/29 [==============================] - 0s 1ms/step - loss: 1.8499e-04 - accuracy: 1.0000 - val_loss: 0.0033 - val_accuracy: 1.0000\n",
      "Epoch 15/30\n",
      "29/29 [==============================] - 0s 2ms/step - loss: 1.7132e-04 - accuracy: 1.0000 - val_loss: 0.0031 - val_accuracy: 1.0000\n",
      "Epoch 16/30\n",
      "29/29 [==============================] - 0s 2ms/step - loss: 1.6338e-04 - accuracy: 1.0000 - val_loss: 0.0027 - val_accuracy: 1.0000\n",
      "Epoch 17/30\n",
      "29/29 [==============================] - 0s 2ms/step - loss: 1.5046e-04 - accuracy: 1.0000 - val_loss: 0.0025 - val_accuracy: 1.0000\n",
      "Epoch 18/30\n",
      "29/29 [==============================] - 0s 2ms/step - loss: 1.4237e-04 - accuracy: 1.0000 - val_loss: 0.0023 - val_accuracy: 1.0000\n",
      "Epoch 19/30\n",
      "29/29 [==============================] - 0s 2ms/step - loss: 1.3402e-04 - accuracy: 1.0000 - val_loss: 0.0021 - val_accuracy: 1.0000\n",
      "Epoch 20/30\n",
      "29/29 [==============================] - 0s 1ms/step - loss: 1.2704e-04 - accuracy: 1.0000 - val_loss: 0.0019 - val_accuracy: 1.0000\n",
      "Epoch 21/30\n",
      "29/29 [==============================] - 0s 2ms/step - loss: 1.2012e-04 - accuracy: 1.0000 - val_loss: 0.0018 - val_accuracy: 1.0000\n",
      "Epoch 22/30\n",
      "29/29 [==============================] - 0s 1ms/step - loss: 1.1417e-04 - accuracy: 1.0000 - val_loss: 0.0017 - val_accuracy: 1.0000\n",
      "Epoch 23/30\n",
      "29/29 [==============================] - 0s 2ms/step - loss: 1.0852e-04 - accuracy: 1.0000 - val_loss: 0.0015 - val_accuracy: 1.0000\n",
      "Epoch 24/30\n",
      "29/29 [==============================] - 0s 1ms/step - loss: 1.0310e-04 - accuracy: 1.0000 - val_loss: 0.0014 - val_accuracy: 1.0000\n",
      "Epoch 25/30\n",
      "29/29 [==============================] - 0s 1ms/step - loss: 9.8483e-05 - accuracy: 1.0000 - val_loss: 0.0013 - val_accuracy: 1.0000\n",
      "Epoch 26/30\n",
      "29/29 [==============================] - 0s 2ms/step - loss: 9.3983e-05 - accuracy: 1.0000 - val_loss: 0.0012 - val_accuracy: 1.0000\n",
      "Epoch 27/30\n",
      "29/29 [==============================] - 0s 2ms/step - loss: 8.9912e-05 - accuracy: 1.0000 - val_loss: 0.0011 - val_accuracy: 1.0000\n",
      "Epoch 28/30\n",
      "29/29 [==============================] - 0s 2ms/step - loss: 8.6176e-05 - accuracy: 1.0000 - val_loss: 0.0011 - val_accuracy: 1.0000\n",
      "Epoch 29/30\n",
      "29/29 [==============================] - 0s 2ms/step - loss: 8.2570e-05 - accuracy: 1.0000 - val_loss: 9.8852e-04 - val_accuracy: 1.0000\n",
      "Epoch 30/30\n",
      "29/29 [==============================] - 0s 2ms/step - loss: 7.9279e-05 - accuracy: 1.0000 - val_loss: 9.2588e-04 - val_accuracy: 1.0000\n"
     ]
    },
    {
     "data": {
      "image/png": "[encoded data removed]",
      "text/plain": [
       "<Figure size 432x288 with 1 Axes>"
      ]
     },
     "metadata": {},
     "output_type": "display_data"
    }
   ],
   "source": [
    "#wandb.init(project=\"simclr\", id=\"linear-eval-relu-second-last\")\n",
    "\n",
    "linear_model = get_linear_model(256)\n",
    "linear_model.compile(loss=\"sparse_categorical_crossentropy\", metrics=[\"accuracy\"],\n",
    "                     optimizer=\"adam\")\n",
    "history = linear_model.fit(train_features, y_train_enc,\n",
    "                 validation_data=(test_features, y_test_enc),\n",
    "                 batch_size=16,\n",
    "                 epochs=30,\n",
    "                 callbacks=[es])\n",
    "plot_training(history)"
   ]
  },
  {
   "cell_type": "code",
   "execution_count": 35,
   "metadata": {
    "colab": {
     "base_uri": "https://localhost:8080/",
     "height": 34
    },
    "colab_type": "code",
    "id": "AIjHhSofSUWl",
    "outputId": "e261856d-410f-4dc6-a9dc-cdb7816ed2b0"
   },
   "outputs": [
    {
     "name": "stdout",
     "output_type": "stream",
     "text": [
      "(460, 2048) (230, 2048)\n"
     ]
    }
   ],
   "source": [
    "# Encoder model with no projection\n",
    "projection = Model(resnet_simclr.input, resnet_simclr.layers[-6].output)\n",
    "\n",
    "# Extract train and test features\n",
    "train_features = projection.predict(X_train)\n",
    "test_features = projection.predict(X_test)\n",
    "\n",
    "print(train_features.shape, test_features.shape)"
   ]
  },
  {
   "cell_type": "code",
   "execution_count": 36,
   "metadata": {
    "colab": {
     "base_uri": "https://localhost:8080/",
     "height": 830
    },
    "colab_type": "code",
    "id": "iDFeqRqVSqzs",
    "outputId": "8a9f646d-93bc-42ac-88e7-850fb52c8fa9"
   },
   "outputs": [
    {
     "name": "stdout",
     "output_type": "stream",
     "text": [
      "Epoch 1/35\n",
      "8/8 [==============================] - 1s 30ms/step - loss: 0.0324 - accuracy: 1.0000 - val_loss: 4.4056e-08 - val_accuracy: 1.0000\n",
      "Epoch 2/35\n",
      "8/8 [==============================] - 0s 6ms/step - loss: 7.5154e-09 - accuracy: 1.0000 - val_loss: 0.0000e+00 - val_accuracy: 1.0000\n",
      "Epoch 3/35\n",
      "8/8 [==============================] - 0s 7ms/step - loss: 0.0000e+00 - accuracy: 1.0000 - val_loss: 0.0000e+00 - val_accuracy: 1.0000\n",
      "Epoch 4/35\n",
      "8/8 [==============================] - 0s 7ms/step - loss: 0.0000e+00 - accuracy: 1.0000 - val_loss: 0.0000e+00 - val_accuracy: 1.0000\n",
      "Restoring model weights from the end of the best epoch.\n",
      "Epoch 00004: early stopping\n"
     ]
    },
    {
     "data": {
      "image/png": "[encoded data removed]",
      "text/plain": [
       "<Figure size 432x288 with 1 Axes>"
      ]
     },
     "metadata": {},
     "output_type": "display_data"
    }
   ],
   "source": [
    "#wandb.init(project=\"simclr\", id=\"linear-eval-no-projections\")\n",
    "\n",
    "linear_model = get_linear_model(2048)\n",
    "linear_model.compile(loss=\"sparse_categorical_crossentropy\", metrics=[\"accuracy\"],\n",
    "                     optimizer=\"adam\")\n",
    "history = linear_model.fit(train_features, y_train_enc,\n",
    "                 validation_data=(test_features, y_test_enc),\n",
    "                 batch_size=64,\n",
    "                 epochs=35,\n",
    "                 callbacks=[es])\n",
    "plot_training(history)"
   ]
  }
 ],
 "metadata": {
  "accelerator": "GPU",
  "colab": {
   "include_colab_link": true,
   "name": "scratchpad",
   "provenance": []
  },
  "kernelspec": {
   "display_name": "Python 3",
   "language": "python",
   "name": "python3"
  },
  "language_info": {
   "codemirror_mode": {
    "name": "ipython",
    "version": 3
   },
   "file_extension": ".py",
   "mimetype": "text/x-python",
   "name": "python",
   "nbconvert_exporter": "python",
   "pygments_lexer": "ipython3",
   "version": "3.6.9"
  }
 },
 "nbformat": 4,
 "nbformat_minor": 1
}
